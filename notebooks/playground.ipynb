{
 "cells": [
  {
   "cell_type": "code",
   "execution_count": null,
   "metadata": {},
   "outputs": [],
   "source": [
    "%load_ext autoreload\n",
    "%autoreload 2\n",
    "\n",
    "from llm_experiments.slack_tools import SlackTools\n",
    "from llm_experiments.llm import create_model\n",
    "from langchain.agents import AgentExecutor, create_react_agent\n",
    "from langchain_core.tools import StructuredTool\n",
    "from llm_experiments import prompts\n",
    "\n",
    "toolkit = [StructuredTool.from_function(func=i) for i in SlackTools().get_tools()]"
   ]
  },
  {
   "cell_type": "code",
   "execution_count": null,
   "metadata": {},
   "outputs": [],
   "source": [
    "agent = create_react_agent(llm=create_model(), tools=toolkit, prompt=prompts.multipurpose())\n",
    "executor = AgentExecutor(agent=agent, tools=toolkit, verbose=True)\n",
    "executor.invoke({\"input\": \"post hello on test channel\"})"
   ]
  },
  {
   "cell_type": "code",
   "execution_count": null,
   "metadata": {},
   "outputs": [],
   "source": [
    "_, channel, ts = SlackTools().post_message(channel=\"test\", text=\"Hello from the LLM agent!\")"
   ]
  },
  {
   "cell_type": "code",
   "execution_count": null,
   "metadata": {},
   "outputs": [],
   "source": [
    "SlackTools().delete_message(channel=channel, ts=ts)"
   ]
  },
  {
   "cell_type": "code",
   "execution_count": null,
   "metadata": {},
   "outputs": [],
   "source": [
    "tools_by_name = {i.name: i for i in toolkit}\n",
    "tools_by_name[\"post_message\"].invoke({\"channel\": \"test\", \"message\": \"hello\"})"
   ]
  },
  {
   "cell_type": "code",
   "execution_count": null,
   "metadata": {},
   "outputs": [],
   "source": []
  }
 ],
 "metadata": {
  "kernelspec": {
   "display_name": ".venv",
   "language": "python",
   "name": "python3"
  },
  "language_info": {
   "codemirror_mode": {
    "name": "ipython",
    "version": 3
   },
   "file_extension": ".py",
   "mimetype": "text/x-python",
   "name": "python",
   "nbconvert_exporter": "python",
   "pygments_lexer": "ipython3",
   "version": "3.13.2"
  }
 },
 "nbformat": 4,
 "nbformat_minor": 4
}
