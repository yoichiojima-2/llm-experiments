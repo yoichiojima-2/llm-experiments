{
 "cells": [
  {
   "cell_type": "code",
   "execution_count": 6,
   "metadata": {},
   "outputs": [
    {
     "name": "stdout",
     "output_type": "stream",
     "text": [
      "The autoreload extension is already loaded. To reload it, use:\n",
      "  %reload_ext autoreload\n"
     ]
    }
   ],
   "source": [
    "%load_ext autoreload\n",
    "%autoreload 2\n",
    "\n",
    "from llm_experiments import *\n",
    "from llm_experiments import tools\n",
    "from typing import Annotated\n",
    "from llm_experiments.slack_tools import SlackTools\n",
    "from langchain_core.tools import tool\n",
    "from llm_experiments.agent import Agent\n",
    "from llm_experiments.clients import create_executor\n",
    "from langgraph.checkpoint.memory import MemorySaver"
   ]
  },
  {
   "cell_type": "code",
   "execution_count": 7,
   "metadata": {},
   "outputs": [],
   "source": [
    "@tool\n",
    "def post_message_tool(\n",
    "    channel: Annotated[str, \"channel name to post\"],\n",
    "    text: Annotated[str, \"text to post\"],\n",
    ") -> None:\n",
    "    \"\"\"\n",
    "    post to slack\n",
    "    Args:\n",
    "    - channel: str\n",
    "    - text: str\n",
    "    \"\"\"\n",
    "    print(channel, text)"
   ]
  },
  {
   "cell_type": "code",
   "execution_count": 8,
   "metadata": {},
   "outputs": [],
   "source": [
    "model = create_model()\n",
    "\n",
    "toolkit=[post_message_tool]\n",
    "\n",
    "executor = create_executor(model=model, tools=toolkit, verbose=False)\n",
    "memory = MemorySaver()\n",
    "\n",
    "config = {\"configurable\": {\"thread_id\": \"test\"}}\n",
    "\n",
    "agent = Agent(\n",
    "    executor=executor,\n",
    "    model=model,\n",
    "    memory=memory,\n",
    "    tools=toolkit,\n",
    "    verbose=True,\n",
    "    config=config\n",
    ")"
   ]
  },
  {
   "cell_type": "code",
   "execution_count": 10,
   "metadata": {},
   "outputs": [
    {
     "name": "stdout",
     "output_type": "stream",
     "text": [
      "message sent to test: test\n"
     ]
    },
    {
     "data": {
      "text/plain": [
       "(True, 'C08LKPFTGMV', '1744016381.809219')"
      ]
     },
     "execution_count": 10,
     "metadata": {},
     "output_type": "execute_result"
    }
   ],
   "source": [
    "slack_tools = SlackTools()\n",
    "slack_tools.post_message(\"test\", \"test\")"
   ]
  },
  {
   "cell_type": "code",
   "execution_count": null,
   "metadata": {},
   "outputs": [],
   "source": []
  }
 ],
 "metadata": {
  "kernelspec": {
   "display_name": "Python 3 (ipykernel)",
   "language": "python",
   "name": "python3"
  },
  "language_info": {
   "codemirror_mode": {
    "name": "ipython",
    "version": 3
   },
   "file_extension": ".py",
   "mimetype": "text/x-python",
   "name": "python",
   "nbconvert_exporter": "python",
   "pygments_lexer": "ipython3",
   "version": "3.13.2"
  }
 },
 "nbformat": 4,
 "nbformat_minor": 4
}
