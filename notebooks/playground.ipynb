{
 "cells": [
  {
   "cell_type": "code",
   "execution_count": 8,
   "metadata": {},
   "outputs": [
    {
     "name": "stdout",
     "output_type": "stream",
     "text": [
      "The autoreload extension is already loaded. To reload it, use:\n",
      "  %reload_ext autoreload\n"
     ]
    }
   ],
   "source": [
    "%load_ext autoreload\n",
    "%autoreload 2\n",
    "\n",
    "from llm_experiments.slack_tools import SlackTools\n",
    "from llm_experiments.llm import create_model\n",
    "from langchain.agents import AgentExecutor, create_react_agent\n",
    "from langchain_core.tools import StructuredTool\n",
    "from langchain_core.tools import tool\n",
    "from llm_experiments import prompts\n",
    "from pprint import pprint"
   ]
  },
  {
   "cell_type": "code",
   "execution_count": 4,
   "metadata": {},
   "outputs": [
    {
     "name": "stdout",
     "output_type": "stream",
     "text": [
      "message sent to test: hello\n"
     ]
    },
    {
     "data": {
      "text/plain": [
       "(True, 'C08LKPFTGMV', '1744037104.731049')"
      ]
     },
     "execution_count": 4,
     "metadata": {},
     "output_type": "execute_result"
    }
   ],
   "source": [
    "slack_tools = SlackTools()\n",
    "slack_tools.post_message(channel=\"test\", text=\"hello\")"
   ]
  },
  {
   "cell_type": "code",
   "execution_count": 6,
   "metadata": {},
   "outputs": [],
   "source": [
    "@tool\n",
    "def post(channel: str, text: str):\n",
    "    \"\"\"Post a message to a Slack channel.\"\"\"\n",
    "    slack_tools.post_message(channel=channel, text=text)"
   ]
  },
  {
   "cell_type": "code",
   "execution_count": 10,
   "metadata": {},
   "outputs": [
    {
     "name": "stdout",
     "output_type": "stream",
     "text": [
      "==================================\u001b[1m Ai Message \u001b[0m==================================\n",
      "Tool Calls:\n",
      "  post (call_jqlNHhcp1v8SjMgbILKYNBWa)\n",
      " Call ID: call_jqlNHhcp1v8SjMgbILKYNBWa\n",
      "  Args:\n",
      "    channel: test\n",
      "    text: hello\n"
     ]
    }
   ],
   "source": [
    "model = create_model().bind_tools([post])\n",
    "res = model.invoke(\"post hello on test channel\")\n",
    "res.pretty_print()"
   ]
  },
  {
   "cell_type": "code",
   "execution_count": 16,
   "metadata": {},
   "outputs": [
    {
     "name": "stdout",
     "output_type": "stream",
     "text": [
      "message sent to test: hello\n"
     ]
    },
    {
     "data": {
      "text/plain": [
       "ToolMessage(content='null', name='post', tool_call_id='call_jqlNHhcp1v8SjMgbILKYNBWa')"
      ]
     },
     "execution_count": 16,
     "metadata": {},
     "output_type": "execute_result"
    }
   ],
   "source": [
    "res.tool_calls[-1][\"args\"]\n",
    "post.invoke(res.tool_calls[-1])"
   ]
  },
  {
   "cell_type": "code",
   "execution_count": 17,
   "metadata": {},
   "outputs": [
    {
     "data": {
      "text/plain": [
       "{'name': 'post',\n",
       " 'args': {'channel': 'test', 'text': 'hello'},\n",
       " 'id': 'call_jqlNHhcp1v8SjMgbILKYNBWa',\n",
       " 'type': 'tool_call'}"
      ]
     },
     "execution_count": 17,
     "metadata": {},
     "output_type": "execute_result"
    }
   ],
   "source": [
    "res.tool_calls[-1]"
   ]
  },
  {
   "cell_type": "code",
   "execution_count": null,
   "metadata": {},
   "outputs": [],
   "source": []
  }
 ],
 "metadata": {
  "kernelspec": {
   "display_name": ".venv",
   "language": "python",
   "name": "python3"
  },
  "language_info": {
   "codemirror_mode": {
    "name": "ipython",
    "version": 3
   },
   "file_extension": ".py",
   "mimetype": "text/x-python",
   "name": "python",
   "nbconvert_exporter": "python",
   "pygments_lexer": "ipython3",
   "version": "3.13.2"
  }
 },
 "nbformat": 4,
 "nbformat_minor": 4
}
