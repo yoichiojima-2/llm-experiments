{
 "cells": [
  {
   "cell_type": "code",
   "execution_count": null,
   "metadata": {},
   "outputs": [],
   "source": [
    "import sys\n",
    "import typing as t\n",
    "import textwrap\n",
    "from pathlib import Path\n",
    "from pydantic import BaseModel, Field\n",
    "from langgraph.graph import StateGraph, START, END\n",
    "\n",
    "sys.path.append(str(Path().cwd().parent))\n",
    "\n",
    "from llm_experiments.models import instantiate_chat"
   ]
  },
  {
   "cell_type": "code",
   "execution_count": null,
   "metadata": {},
   "outputs": [],
   "source": [
    "class State(t.TypedDict):\n",
    "    purpose: str\n",
    "    code: str\n",
    "    review: str\n",
    "    approved: t.Literal[\"true\", \"false\"]"
   ]
  },
  {
   "cell_type": "code",
   "execution_count": null,
   "metadata": {},
   "outputs": [],
   "source": [
    "class Code(BaseModel):\n",
    "    code: str = Field(description=\"the code to be written\")"
   ]
  },
  {
   "cell_type": "code",
   "execution_count": null,
   "metadata": {},
   "outputs": [],
   "source": [
    "class Review(BaseModel):\n",
    "    approved: t.Literal[\"true\", \"false\"] = Field(description=\"true if the code is approved, false otherwise\")\n",
    "    review: str = Field(description=\"feedback on the code\")"
   ]
  },
  {
   "cell_type": "code",
   "execution_count": null,
   "metadata": {},
   "outputs": [],
   "source": [
    "model = instantiate_chat(\"4o-mini\")\n",
    "coder = model.with_structured_output(Code)\n",
    "reviewer = model.with_structured_output(Review)"
   ]
  },
  {
   "cell_type": "code",
   "execution_count": null,
   "metadata": {},
   "outputs": [],
   "source": [
    "def write_code(state: State):\n",
    "    for k, v in state.items():\n",
    "        print(f\" {k} \".center(88, \"=\"))\n",
    "        print(v)\n",
    "        print()\n",
    "\n",
    "    role = textwrap.dedent(\n",
    "        f\"\"\"\n",
    "        You are a senior software engineer writing code.\n",
    "        The purpose of the code is to {state[\"purpose\"]}.\n",
    "        {f\"but take into account the following review: {state['review']}\" if state.get(\"approved\") else \"\"}\n",
    "        \"\"\"\n",
    "    )\n",
    "    messages = [\n",
    "        {\"role\": \"system\", \"content\": role},\n",
    "    ]\n",
    "    res = coder.invoke(messages)\n",
    "    return {\"code\": res.code}"
   ]
  },
  {
   "cell_type": "code",
   "execution_count": null,
   "metadata": {},
   "outputs": [],
   "source": [
    "def review_code(state: State):\n",
    "    role = textwrap.dedent(\n",
    "        f\"\"\"\n",
    "        You are a senior software engineer reviewing a piece of code.\n",
    "        The purpose of the code is to {state[\"purpose\"]}.\n",
    "        if the code is not good enough, return \"false\" in the approved field. otherwise, return \"true\".\n",
    "        \"\"\"\n",
    "    )\n",
    "    messages = [\n",
    "        {\"role\": \"system\", \"content\": role},\n",
    "        {\"role\": \"user\", \"content\": state[\"code\"]},\n",
    "    ]\n",
    "    res = reviewer.invoke(messages)\n",
    "    return {\"approved\": res.approved, \"review\": res.review}"
   ]
  },
  {
   "cell_type": "code",
   "execution_count": null,
   "metadata": {},
   "outputs": [],
   "source": [
    "def router(state: State):\n",
    "    match state[\"approved\"]:\n",
    "        case \"true\":\n",
    "            return \"approved\"\n",
    "        case \"false\":\n",
    "            return \"needs_improvement\"\n",
    "        case _:\n",
    "            raise ValueError(f\"Invalid approval status: {state['approved']}\")"
   ]
  },
  {
   "cell_type": "code",
   "execution_count": null,
   "metadata": {},
   "outputs": [],
   "source": [
    "builder = StateGraph(State)\n",
    "\n",
    "builder.add_node(\"write_code\", write_code)\n",
    "builder.add_node(\"review_code\", review_code)\n",
    "\n",
    "builder.add_edge(START, \"write_code\")\n",
    "builder.add_edge(\"write_code\", \"review_code\")\n",
    "builder.add_conditional_edges(\"review_code\", router, {\"approved\": END, \"needs_improvement\": \"write_code\"})\n",
    "\n",
    "graph = builder.compile()"
   ]
  },
  {
   "cell_type": "code",
   "execution_count": null,
   "metadata": {},
   "outputs": [],
   "source": [
    "from IPython.display import display, Image\n",
    "\n",
    "display(Image(graph.get_graph().draw_mermaid_png()))"
   ]
  },
  {
   "cell_type": "code",
   "execution_count": null,
   "metadata": {},
   "outputs": [],
   "source": [
    "res = graph.invoke({\"purpose\": \"save all pages of a kindle book to a pdf file\"})"
   ]
  },
  {
   "cell_type": "code",
   "execution_count": null,
   "metadata": {},
   "outputs": [],
   "source": [
    "print(res[\"code\"])"
   ]
  },
  {
   "cell_type": "code",
   "execution_count": null,
   "metadata": {},
   "outputs": [],
   "source": []
  }
 ],
 "metadata": {
  "kernelspec": {
   "display_name": ".venv",
   "language": "python",
   "name": "python3"
  },
  "language_info": {
   "codemirror_mode": {
    "name": "ipython",
    "version": 3
   },
   "file_extension": ".py",
   "mimetype": "text/x-python",
   "name": "python",
   "nbconvert_exporter": "python",
   "pygments_lexer": "ipython3",
   "version": "3.13.2"
  }
 },
 "nbformat": 4,
 "nbformat_minor": 2
}
