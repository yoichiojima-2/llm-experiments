{
 "cells": [
  {
   "cell_type": "code",
   "execution_count": null,
   "metadata": {},
   "outputs": [],
   "source": [
    "import sys\n",
    "from pathlib import Path\n",
    "from langchain_core.messages import HumanMessage\n",
    "from langchain_core.tools import tool\n",
    "\n",
    "sys.path.append(str(Path().cwd().parent))\n",
    "\n",
    "from llm_experiments.chat import instantiate_chat"
   ]
  },
  {
   "cell_type": "code",
   "execution_count": null,
   "metadata": {},
   "outputs": [],
   "source": [
    "query = \"call the tool_1 and tool_2 and return the results\"\n",
    "\n",
    "\n",
    "@tool\n",
    "def tool_1():\n",
    "    \"tool_1\"\n",
    "    return \"tool_1 is called\"\n",
    "\n",
    "\n",
    "@tool\n",
    "def tool_2():\n",
    "    \"tool_2\"\n",
    "    return \"tool_2 is called\"\n",
    "\n",
    "\n",
    "tools = [tool_1, tool_2]\n",
    "tools_by_name = {t.name: t for t in tools}\n",
    "\n",
    "model = instantiate_chat(\"4o-mini\")\n",
    "tooled_model = model.bind_tools(tools)\n",
    "\n",
    "messages = [HumanMessage(content=query)]\n",
    "ai_msg = tooled_model.invoke(messages)\n",
    "\n",
    "for tool_call in ai_msg.tool_calls:\n",
    "    tool_msg = tools_by_name[tool_call[\"name\"]].invoke(tool_call)\n",
    "    print(tool_msg)"
   ]
  },
  {
   "cell_type": "code",
   "execution_count": null,
   "metadata": {},
   "outputs": [],
   "source": []
  }
 ],
 "metadata": {
  "kernelspec": {
   "display_name": ".venv",
   "language": "python",
   "name": "python3"
  },
  "language_info": {
   "codemirror_mode": {
    "name": "ipython",
    "version": 3
   },
   "file_extension": ".py",
   "mimetype": "text/x-python",
   "name": "python",
   "nbconvert_exporter": "python",
   "pygments_lexer": "ipython3",
   "version": "3.13.2"
  }
 },
 "nbformat": 4,
 "nbformat_minor": 2
}
