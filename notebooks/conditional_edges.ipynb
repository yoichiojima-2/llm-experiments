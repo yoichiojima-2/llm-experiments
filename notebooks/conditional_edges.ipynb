{
 "cells": [
  {
   "cell_type": "code",
   "execution_count": null,
   "metadata": {},
   "outputs": [],
   "source": [
    "import sys\n",
    "from pathlib import Path\n",
    "import typing as t\n",
    "from langgraph.graph import StateGraph, START, END\n",
    "\n",
    "sys.path.append(str(Path().cwd().parent))\n",
    "\n",
    "from llm_experiments.models import instantiate_chat"
   ]
  },
  {
   "cell_type": "code",
   "execution_count": null,
   "metadata": {},
   "outputs": [],
   "source": [
    "class State(t.TypedDict):\n",
    "    query: str\n",
    "    first_answer: str\n",
    "    is_a_fact: bool\n",
    "    summarized_answer: str"
   ]
  },
  {
   "cell_type": "code",
   "execution_count": null,
   "metadata": {},
   "outputs": [],
   "source": [
    "model = instantiate_chat(\"4o-mini\")"
   ]
  },
  {
   "cell_type": "code",
   "execution_count": null,
   "metadata": {},
   "outputs": [],
   "source": [
    "def generate_first_answer(state: State):\n",
    "    msg = model.invoke(f\"answer question: {state['query']}\")\n",
    "    return {\"first_answer\": msg.content}\n",
    "\n",
    "\n",
    "def fact_check(state: State):\n",
    "    msg = model.invoke(f\"do a fact check on the following answer: {state['first_answer']}\\n. answer only with true or false\")\n",
    "    return {\"is_a_fact\": msg.content}\n",
    "\n",
    "\n",
    "def check_if_answer_is_a_fact(state: State):\n",
    "    if state[\"is_a_fact\"]:\n",
    "        return \"true\"\n",
    "    else:\n",
    "        return \"false\"\n",
    "\n",
    "\n",
    "def summarize_answer(state: State):\n",
    "    msg = model.invoke(f\"summarize the answer: {state['first_answer']}\")\n",
    "    return {\"summarized_answer\": msg.content}\n",
    "\n",
    "\n",
    "graph = StateGraph(State)\n",
    "graph.add_node(\"generate_first_answer\", generate_first_answer)\n",
    "graph.add_node(\"fact_check\", fact_check)\n",
    "graph.add_node(\"summarize_answer\", summarize_answer)\n",
    "\n",
    "graph.add_edge(START, \"generate_first_answer\")\n",
    "graph.add_edge(\"generate_first_answer\", \"fact_check\")\n",
    "graph.add_conditional_edges(\"fact_check\", check_if_answer_is_a_fact, {\"true\": \"summarize_answer\", \"false\": END})\n",
    "graph.add_edge(\"summarize_answer\", END)\n",
    "\n",
    "chain = graph.compile()"
   ]
  },
  {
   "cell_type": "code",
   "execution_count": null,
   "metadata": {},
   "outputs": [],
   "source": [
    "from IPython.display import display\n",
    "from IPython.display import Image\n",
    "\n",
    "display(Image(chain.get_graph().draw_mermaid_png()))"
   ]
  },
  {
   "cell_type": "code",
   "execution_count": null,
   "metadata": {},
   "outputs": [],
   "source": [
    "for k, v in chain.invoke({\"query\": \"who is the president of the united states?\"}).items():\n",
    "    print(k)\n",
    "    print(v)\n",
    "    print()"
   ]
  }
 ],
 "metadata": {
  "kernelspec": {
   "display_name": ".venv",
   "language": "python",
   "name": "python3"
  },
  "language_info": {
   "codemirror_mode": {
    "name": "ipython",
    "version": 3
   },
   "file_extension": ".py",
   "mimetype": "text/x-python",
   "name": "python",
   "nbconvert_exporter": "python",
   "pygments_lexer": "ipython3",
   "version": "3.13.2"
  }
 },
 "nbformat": 4,
 "nbformat_minor": 2
}
