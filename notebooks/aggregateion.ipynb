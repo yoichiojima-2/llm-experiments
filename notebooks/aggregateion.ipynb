{
 "cells": [
  {
   "cell_type": "code",
   "execution_count": 1,
   "metadata": {},
   "outputs": [],
   "source": [
    "import sys\n",
    "from pathlib import Path\n",
    "import typing as t\n",
    "from langgraph.graph import StateGraph, START, END\n",
    "import textwrap\n",
    "from IPython.display import Image\n",
    "\n",
    "sys.path.append(str(Path().cwd().parent))\n",
    "\n",
    "from llm_experiments.chat import instantiate_chat"
   ]
  },
  {
   "cell_type": "code",
   "execution_count": 2,
   "metadata": {},
   "outputs": [],
   "source": [
    "model = instantiate_chat(\"4o-mini\")"
   ]
  },
  {
   "cell_type": "code",
   "execution_count": 3,
   "metadata": {},
   "outputs": [],
   "source": [
    "class State(t.TypedDict):\n",
    "    topic: str\n",
    "    liberal_opinion: str\n",
    "    conservative_opinion: str\n",
    "    compromised_opinion: str"
   ]
  },
  {
   "cell_type": "code",
   "execution_count": 4,
   "metadata": {},
   "outputs": [],
   "source": [
    "def generate_liberal_opinion(state: State):\n",
    "    input_text = textwrap.dedent(\n",
    "        f\"\"\"\n",
    "        you are a partisan of a debate.\n",
    "        you are given a topic and you need to say a liberal opinion on the topic.\n",
    "        topic: {state[\"topic\"]}\n",
    "        \"\"\"\n",
    "    )\n",
    "    msg = model.invoke(input_text)\n",
    "    return {\"liberal_opinion\": msg.content}\n",
    "\n",
    "\n",
    "def generate_conservative_opinion(state: State):\n",
    "    input_text = textwrap.dedent(\n",
    "        f\"\"\"\n",
    "        you are a partisan of a debate.\n",
    "        you are given a topic and you need to say a conservative opinion on the topic.\n",
    "        topic: {state[\"topic\"]}\n",
    "        \"\"\"\n",
    "    )\n",
    "    msg = model.invoke(input_text)\n",
    "    return {\"conservative_opinion\": msg.content}\n",
    "\n",
    "\n",
    "def find_a_compromise(state: State):\n",
    "    input_text = textwrap.dedent(\n",
    "        f\"\"\"\n",
    "        you are a political analyst.\n",
    "        you are given two opinions on a topic and you need to find a compromise between the two.\n",
    "        topic: {state[\"topic\"]}\n",
    "        liberal opinion: {state[\"liberal_opinion\"]}\n",
    "        conservative opinion: {state[\"conservative_opinion\"]}\n",
    "        \"\"\"\n",
    "    )\n",
    "    msg = model.invoke(input_text)\n",
    "    return {\"compromised_opinion\": msg.content}\n",
    "\n",
    "\n",
    "graph = StateGraph(State)\n",
    "graph.add_node(\"generate_liberal_opinion\", generate_liberal_opinion)\n",
    "graph.add_node(\"generate_conservative_opinion\", generate_conservative_opinion)\n",
    "graph.add_node(\"find_a_compromise\", find_a_compromise)\n",
    "\n",
    "graph.add_edge(START, \"generate_liberal_opinion\")\n",
    "graph.add_edge(START, \"generate_conservative_opinion\")\n",
    "graph.add_edge(\"generate_liberal_opinion\", \"find_a_compromise\")\n",
    "graph.add_edge(\"generate_conservative_opinion\", \"find_a_compromise\")\n",
    "graph.add_edge(\"find_a_compromise\", END)\n",
    "\n",
    "chain = graph.compile()"
   ]
  },
  {
   "cell_type": "code",
   "execution_count": 5,
   "metadata": {},
   "outputs": [
    {
     "data": {
      "image/png": "[encoded data removed]",
      "text/plain": [
       "<IPython.core.display.Image object>"
      ]
     },
     "metadata": {},
     "output_type": "display_data"
    }
   ],
   "source": [
    "from IPython.display import display\n",
    "\n",
    "display(Image(chain.get_graph().draw_mermaid_png()))"
   ]
  },
  {
   "cell_type": "code",
   "execution_count": 6,
   "metadata": {},
   "outputs": [
    {
     "name": "stdout",
     "output_type": "stream",
     "text": [
      "topic\n",
      "migrants\n",
      "\n",
      "liberal_opinion\n",
      "The topic of migrants is one that elicits a range of opinions, but from a liberal perspective, it is essential to approach this issue with compassion, understanding, and a commitment to human rights.\n",
      "\n",
      "Migrants are often fleeing from dire circumstances—whether due to war, persecution, or economic desperation—and it is our moral obligation to provide them with refuge and support. Embracing migrants enriches our communities culturally, socially, and economically. They bring diverse perspectives, contribute to the workforce, and help fill essential roles in various sectors, which can lead to innovation and growth.\n",
      "\n",
      "From a liberal viewpoint, creating inclusive policies that protect the rights of migrants is crucial. We must advocate for comprehensive immigration reform that not only secures borders but also offers pathways to citizenship and legal status for those who aspire to contribute to society. This includes providing access to education, healthcare, and job opportunities, ensuring that migrants can thrive and be productive members of society.\n",
      "\n",
      "Additionally, it's important to recognize the global nature of migration and advocate for international cooperation to address the root causes of migration—such as climate change, conflict, and economic disparities. Supporting sustainable development in migrants' home countries not only helps alleviate their plight but also strengthens global stability.\n",
      "\n",
      "In essence, a liberal approach to migrants emphasizes empathy, inclusion, and the belief that diversity is a strength. We should stand up against xenophobia and discrimination, promoting understanding and solidarity in our communities to create a more just and equitable society for all.\n",
      "\n",
      "conservative_opinion\n",
      "As a conservative, I believe that managing migration is essential for maintaining our national identity, security, and economic stability. While it’s important to recognize the humanitarian aspects of migration, we must prioritize legal pathways and ensure that our immigration system is orderly and accountable.\n",
      "\n",
      "First and foremost, a secure border is critical. We need to enforce existing laws and invest in border security measures to prevent illegal immigration and human trafficking. A strong border policy helps protect our citizens and ensures that those who enter our country do so lawfully. \n",
      "\n",
      "Additionally, immigration should prioritize skilled workers who can contribute to our economy while ensuring that citizens have access to job opportunities. We should focus on legal immigration processes that allow us to effectively evaluate and integrate newcomers who share our values.\n",
      "\n",
      "Moreover, it’s crucial to allocate resources to assist those already in the country legally and help them adapt, while also ensuring that government services are available primarily to citizens. In this way, we foster the next generation of Americans who respect the rule of law and can contribute positively to our society.\n",
      "\n",
      "In summary, a conservative approach to migration emphasizes the need for a secure border, enforcement of laws, prioritization of skilled immigrants, and a commitment to preserving our national identity.\n",
      "\n",
      "compromised_opinion\n",
      "To find a compromise between the liberal and conservative opinions on the topic of migrants, we can identify common ground that respects humanitarian concerns while also addressing national security and economic stability.\n",
      "\n",
      "**Compromise Position on Migrants:**\n",
      "\n",
      "1. **Secure and Compassionate Immigration System**: Acknowledge the necessity of border security and lawful immigration processes while incorporating humane treatment of migrants. Implement a robust yet fair border security strategy that uses technology and resources effectively to manage legal entries while preventing illegal immigration.\n",
      "\n",
      "2. **Legal Pathways for Migrants**: Create accessible and streamlined legal pathways for migrants who wish to enter the country, particularly those fleeing dire circumstances or contributing skills. This can include:\n",
      "   - A points-based immigration system that prioritizes skilled workers while also considering humanitarian needs.\n",
      "   - Temporary Protected Status (TPS) for individuals fleeing conflict or natural disasters, allowing them to work legally while they seek permanent solutions.\n",
      "\n",
      "3. **Integration Support**: Develop programs to aid the integration of migrants into society. This includes providing access to education, vocational training, and language programs, ensuring that new arrivals can contribute effectively to the economy while respecting cultural values.\n",
      "\n",
      "4. **Focus on Root Causes**: Invest in international development projects that address the root causes of migration, such as poverty, violence, and environmental degradation, contributing to global stability and reducing the pressures that lead to migration.\n",
      "\n",
      "5. **Public-Private Partnerships**: Encourage collaboration between government and the private sector to ensure that migrant contributions to the economy are maximized while addressing local job markets. This could involve scholarships for migrant students in high-demand fields and incentives for employers to hire legally documented immigrants.\n",
      "\n",
      "6. **Community Engagement and Education**: Promote understanding and cooperation in local communities to combat xenophobia and support diversity. This includes educational programs highlighting the positive contributions of migrants and fostering dialogue between migrant populations and local residents.\n",
      "\n",
      "By melding these perspectives, we emphasize a balanced approach to migration that honors humanitarian principles while maintaining national security and economic priorities. This compromise can lead to a system that is both fair and effective, ultimately benefiting society as a whole.\n",
      "\n"
     ]
    }
   ],
   "source": [
    "for k, v in chain.invoke({\"topic\": \"migrants\"}).items():\n",
    "    print(k)\n",
    "    print(v)\n",
    "    print()"
   ]
  },
  {
   "cell_type": "code",
   "execution_count": null,
   "metadata": {},
   "outputs": [],
   "source": []
  }
 ],
 "metadata": {
  "kernelspec": {
   "display_name": ".venv",
   "language": "python",
   "name": "python3"
  },
  "language_info": {
   "codemirror_mode": {
    "name": "ipython",
    "version": 3
   },
   "file_extension": ".py",
   "mimetype": "text/x-python",
   "name": "python",
   "nbconvert_exporter": "python",
   "pygments_lexer": "ipython3",
   "version": "3.13.2"
  }
 },
 "nbformat": 4,
 "nbformat_minor": 2
}
