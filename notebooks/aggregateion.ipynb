{
 "cells": [
  {
   "cell_type": "code",
   "execution_count": null,
   "metadata": {},
   "outputs": [],
   "source": [
    "import sys\n",
    "from pathlib import Path\n",
    "import typing as t\n",
    "from langgraph.graph import StateGraph, START, END\n",
    "import textwrap\n",
    "from IPython.display import Image\n",
    "\n",
    "sys.path.append(str(Path().cwd().parent))\n",
    "\n",
    "from llm_experiments.chat import instantiate_chat"
   ]
  },
  {
   "cell_type": "code",
   "execution_count": null,
   "metadata": {},
   "outputs": [],
   "source": [
    "model = instantiate_chat(\"4o-mini\")"
   ]
  },
  {
   "cell_type": "code",
   "execution_count": null,
   "metadata": {},
   "outputs": [],
   "source": [
    "class State(t.TypedDict):\n",
    "    topic: str\n",
    "    liberal_opinion: str\n",
    "    conservative_opinion: str\n",
    "    compromised_opinion: str"
   ]
  },
  {
   "cell_type": "code",
   "execution_count": null,
   "metadata": {},
   "outputs": [],
   "source": [
    "def generate_liberal_opinion(state: State):\n",
    "    input_text = textwrap.dedent(\n",
    "        f\"\"\"\n",
    "        you are a partisan of a debate.\n",
    "        you are given a topic and you need to say a liberal opinion on the topic.\n",
    "        topic: {state[\"topic\"]}\n",
    "        \"\"\"\n",
    "    )\n",
    "    msg = model.invoke(input_text)\n",
    "    return {\"liberal_opinion\": msg.content}\n",
    "\n",
    "\n",
    "def generate_conservative_opinion(state: State):\n",
    "    input_text = textwrap.dedent(\n",
    "        f\"\"\"\n",
    "        you are a partisan of a debate.\n",
    "        you are given a topic and you need to say a conservative opinion on the topic.\n",
    "        topic: {state[\"topic\"]}\n",
    "        \"\"\"\n",
    "    )\n",
    "    msg = model.invoke(input_text)\n",
    "    return {\"conservative_opinion\": msg.content}\n",
    "\n",
    "\n",
    "def find_a_compromise(state: State):\n",
    "    input_text = textwrap.dedent(\n",
    "        f\"\"\"\n",
    "        you are a political analyst.\n",
    "        you are given two opinions on a topic and you need to find a compromise between the two.\n",
    "        topic: {state[\"topic\"]}\n",
    "        liberal opinion: {state[\"liberal_opinion\"]}\n",
    "        conservative opinion: {state[\"conservative_opinion\"]}\n",
    "        \"\"\"\n",
    "    )\n",
    "    msg = model.invoke(input_text)\n",
    "    return {\"compromised_opinion\": msg.content}\n",
    "\n",
    "\n",
    "graph = StateGraph(State)\n",
    "graph.add_node(\"generate_liberal_opinion\", generate_liberal_opinion)\n",
    "graph.add_node(\"generate_conservative_opinion\", generate_conservative_opinion)\n",
    "graph.add_node(\"find_a_compromise\", find_a_compromise)\n",
    "\n",
    "graph.add_edge(START, \"generate_liberal_opinion\")\n",
    "graph.add_edge(START, \"generate_conservative_opinion\")\n",
    "graph.add_edge(\"generate_liberal_opinion\", \"find_a_compromise\")\n",
    "graph.add_edge(\"generate_conservative_opinion\", \"find_a_compromise\")\n",
    "graph.add_edge(\"find_a_compromise\", END)\n",
    "\n",
    "chain = graph.compile()"
   ]
  },
  {
   "cell_type": "code",
   "execution_count": null,
   "metadata": {},
   "outputs": [],
   "source": [
    "from IPython.display import display\n",
    "\n",
    "display(Image(chain.get_graph().draw_mermaid_png()))"
   ]
  },
  {
   "cell_type": "code",
   "execution_count": null,
   "metadata": {},
   "outputs": [],
   "source": [
    "for k, v in chain.invoke({\"topic\": \"migrants\"}).items():\n",
    "    print(k)\n",
    "    print(v)\n",
    "    print()"
   ]
  },
  {
   "cell_type": "code",
   "execution_count": null,
   "metadata": {},
   "outputs": [],
   "source": []
  }
 ],
 "metadata": {
  "kernelspec": {
   "display_name": ".venv",
   "language": "python",
   "name": "python3"
  },
  "language_info": {
   "codemirror_mode": {
    "name": "ipython",
    "version": 3
   },
   "file_extension": ".py",
   "mimetype": "text/x-python",
   "name": "python",
   "nbconvert_exporter": "python",
   "pygments_lexer": "ipython3",
   "version": "3.13.2"
  }
 },
 "nbformat": 4,
 "nbformat_minor": 2
}
