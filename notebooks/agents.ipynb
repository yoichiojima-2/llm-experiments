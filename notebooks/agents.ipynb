{
 "cells": [
  {
   "cell_type": "code",
   "execution_count": 1,
   "metadata": {},
   "outputs": [],
   "source": [
    "import sys\n",
    "from pathlib import Path\n",
    "\n",
    "sys.path.append(str(Path().cwd().parent))\n",
    "\n",
    "from langchain.agents import initialize_agent, AgentType\n",
    "from playwright.async_api import async_playwright\n",
    "from langchain_community.agent_toolkits import PlayWrightBrowserToolkit\n",
    "from llm_experiments.models import instantiate_chat"
   ]
  },
  {
   "cell_type": "code",
   "execution_count": 2,
   "metadata": {},
   "outputs": [
    {
     "name": "stderr",
     "output_type": "stream",
     "text": [
      "/var/folders/f3/ckt6hfxs32717zjcpr1f6nlr0000gn/T/ipykernel_29907/3284768707.py:7: LangChainDeprecationWarning: LangChain agents will continue to be supported, but it is recommended for new use cases to be built with LangGraph. LangGraph offers a more flexible and full-featured framework for building agents, including support for tool-calling, persistence of state, and human-in-the-loop workflows. For details, refer to the `LangGraph documentation <https://langchain-ai.github.io/langgraph/>`_ as well as guides for `Migrating from AgentExecutor <https://python.langchain.com/docs/how_to/migrate_agent/>`_ and LangGraph's `Pre-built ReAct agent <https://langchain-ai.github.io/langgraph/how-tos/create-react-agent/>`_.\n",
      "  agent = initialize_agent(tools, model, agent=AgentType.STRUCTURED_CHAT_ZERO_SHOT_REACT_DESCRIPTION, verbose=True)\n"
     ]
    }
   ],
   "source": [
    "model = instantiate_chat(\"4o-mini\")\n",
    "\n",
    "async with async_playwright() as p:\n",
    "    browser = await p.chromium.launch(headless=False)\n",
    "    tookkit = PlayWrightBrowserToolkit.from_browser(async_browser=browser)\n",
    "    tools = tookkit.get_tools()\n",
    "    agent = initialize_agent(tools, model, agent=AgentType.STRUCTURED_CHAT_ZERO_SHOT_REACT_DESCRIPTION, verbose=True)\n",
    "    # await agent.ainvoke(\"what is the weather in tokyo?\")"
   ]
  },
  {
   "cell_type": "code",
   "execution_count": 3,
   "metadata": {},
   "outputs": [],
   "source": [
    "from operator import add\n",
    "from langchain_core.messages import AnyMessage\n",
    "from langgraph.graph import StateGraph, START, END\n",
    "from typing_extensions import TypedDict, Annotated\n",
    "from IPython.display import Image, display"
   ]
  },
  {
   "cell_type": "code",
   "execution_count": 4,
   "metadata": {},
   "outputs": [],
   "source": [
    "class State(TypedDict):\n",
    "    input: str\n",
    "    output: str\n",
    "    notepad: Annotated[list[AnyMessage], add]"
   ]
  },
  {
   "cell_type": "code",
   "execution_count": 5,
   "metadata": {},
   "outputs": [],
   "source": [
    "def node_1(state: State):\n",
    "    print(state)\n",
    "    return {\"output\": \"result from node 1\", \"notepad\": [\"node 1 take a note\"]}"
   ]
  },
  {
   "cell_type": "code",
   "execution_count": 6,
   "metadata": {},
   "outputs": [],
   "source": [
    "def node_2(state: State):\n",
    "    print(state)\n",
    "    return {\"output\": \"result from node 2\", \"notepad\": [\"node 2 take a note\"]}"
   ]
  },
  {
   "cell_type": "code",
   "execution_count": 11,
   "metadata": {},
   "outputs": [],
   "source": [
    "def node_3(state: State):\n",
    "    print(state)\n",
    "    return {\"notepad\": [\"node 3 take a note\"]}"
   ]
  },
  {
   "cell_type": "code",
   "execution_count": 12,
   "metadata": {},
   "outputs": [],
   "source": [
    "graph_builder = StateGraph(State)\n",
    "graph_builder.add_node(node_1)\n",
    "graph_builder.add_node(node_2)\n",
    "graph_builder.add_node(node_3)\n",
    "graph_builder.add_edge(START, \"node_1\")\n",
    "graph_builder.add_edge(\"node_1\", \"node_2\")\n",
    "graph_builder.add_edge(\"node_1\", \"node_3\")\n",
    "graph_builder.add_edge(\"node_2\", END)\n",
    "graph_builder.add_edge(\"node_3\", END)\n",
    "graph = graph_builder.compile()"
   ]
  },
  {
   "cell_type": "code",
   "execution_count": 13,
   "metadata": {},
   "outputs": [
    {
     "data": {
      "image/png": "[encoded data removed]",
      "text/plain": [
       "<IPython.core.display.Image object>"
      ]
     },
     "execution_count": 13,
     "metadata": {},
     "output_type": "execute_result"
    }
   ],
   "source": [
    "Image(graph.get_graph().draw_mermaid_png())"
   ]
  },
  {
   "cell_type": "code",
   "execution_count": 14,
   "metadata": {},
   "outputs": [
    {
     "name": "stdout",
     "output_type": "stream",
     "text": [
      "{'input': 'test input', 'notepad': []}\n",
      "{'input': 'test input', 'output': 'result from node 1', 'notepad': ['node 1 take a note']}\n",
      "{'input': 'test input', 'output': 'result from node 1', 'notepad': ['node 1 take a note']}\n"
     ]
    },
    {
     "data": {
      "text/plain": [
       "{'input': 'test input',\n",
       " 'output': 'result from node 2',\n",
       " 'notepad': ['node 1 take a note', 'node 2 take a note', 'node 3 take a note']}"
      ]
     },
     "execution_count": 14,
     "metadata": {},
     "output_type": "execute_result"
    }
   ],
   "source": [
    "graph.invoke({\"input\": \"test input\"})"
   ]
  }
 ],
 "metadata": {
  "kernelspec": {
   "display_name": "Python 3",
   "language": "python",
   "name": "python3"
  },
  "language_info": {
   "codemirror_mode": {
    "name": "ipython",
    "version": 3
   },
   "file_extension": ".py",
   "mimetype": "text/x-python",
   "name": "python",
   "nbconvert_exporter": "python",
   "pygments_lexer": "ipython3",
   "version": "3.13.2"
  }
 },
 "nbformat": 4,
 "nbformat_minor": 2
}
