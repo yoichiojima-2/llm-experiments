{
 "cells": [
  {
   "cell_type": "code",
   "execution_count": 16,
   "metadata": {},
   "outputs": [],
   "source": [
    "import sys\n",
    "from pathlib import Path\n",
    "from langchain_core.tools import tool\n",
    "from langgraph.graph import StateGraph, START, END, MessagesState\n",
    "from langchain_core.messages import HumanMessage, ToolMessage, SystemMessage\n",
    "\n",
    "sys.path.append(str(Path().cwd().parent))\n",
    "\n",
    "from llm_experiments.chat import instantiate_chat\n",
    "\n",
    "\n",
    "@tool\n",
    "def round_number(n: float, precision: int) -> int:\n",
    "    \"\"\"add two numbers together\"\"\"\n",
    "    return round(n, precision)\n",
    "\n",
    "\n",
    "model = instantiate_chat(\"4o-mini\")\n",
    "tools = [round_number]\n",
    "tools_by_name = {t.name: t for t in tools}\n",
    "tooled_model = model.bind_tools(tools)\n",
    "\n",
    "\n",
    "def llm_call(state: MessagesState):\n",
    "    role = \"you are a helpful assistant\"\n",
    "    messages = [\n",
    "        tooled_model.invoke([SystemMessage(content=role), *state[\"messages\"]])\n",
    "    ]\n",
    "    return {\"messages\": messages}\n",
    "\n",
    "\n",
    "def tool_node(state: MessagesState):\n",
    "    results = []\n",
    "    for tool_call in state[\"messages\"][-1].tool_calls:\n",
    "        tool = tools_by_name[tool_call[\"name\"]]\n",
    "        observation = tool.invoke(tool_call[\"args\"])\n",
    "        results.append(ToolMessage(content=observation, tool_call_id=tool_call[\"id\"]))\n",
    "    return {\"messages\": results}\n",
    "\n",
    "\n",
    "def should_continue(state: MessagesState):\n",
    "    if state[\"messages\"][-1].tool_calls:\n",
    "        return \"action\"\n",
    "    else:\n",
    "        return END\n",
    "\n",
    "\n",
    "builder = StateGraph(MessagesState)\n",
    "\n",
    "builder.add_node(\"llm_call\", llm_call)\n",
    "builder.add_node(\"environment\", tool_node)\n",
    "\n",
    "builder.add_edge(START, \"llm_call\")\n",
    "builder.add_conditional_edges(\"llm_call\", should_continue, {\"action\": \"environment\", END: END})\n",
    "builder.add_edge(\"environment\", \"llm_call\")\n",
    "\n",
    "graph = builder.compile()"
   ]
  },
  {
   "cell_type": "code",
   "execution_count": 17,
   "metadata": {},
   "outputs": [
    {
     "data": {
      "image/png": "[encoded data removed]",
      "text/plain": [
       "<IPython.core.display.Image object>"
      ]
     },
     "metadata": {},
     "output_type": "display_data"
    }
   ],
   "source": [
    "from IPython.display import display, Image\n",
    "\n",
    "display(Image(graph.get_graph().draw_mermaid_png()))\n",
    "query = \"round 1.234 to 2 decimal places\""
   ]
  },
  {
   "cell_type": "code",
   "execution_count": 22,
   "metadata": {},
   "outputs": [
    {
     "name": "stdout",
     "output_type": "stream",
     "text": [
      "0 round 1.234 to 2 decimal places\n",
      "1 \n",
      "2 1.23\n",
      "3 The number 1.234 rounded to two decimal places is 1.23.\n"
     ]
    }
   ],
   "source": [
    "messages = graph.invoke({\"messages\": [HumanMessage(content=query)]})\n",
    "for index, m in enumerate(messages[\"messages\"]):\n",
    "    print(index, m.content)"
   ]
  },
  {
   "cell_type": "code",
   "execution_count": null,
   "metadata": {},
   "outputs": [],
   "source": []
  }
 ],
 "metadata": {
  "language_info": {
   "name": "python"
  }
 },
 "nbformat": 4,
 "nbformat_minor": 2
}
