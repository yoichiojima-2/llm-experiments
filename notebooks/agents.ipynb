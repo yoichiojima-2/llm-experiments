{
 "cells": [
  {
   "cell_type": "code",
   "execution_count": 9,
   "metadata": {},
   "outputs": [],
   "source": [
    "import sys\n",
    "from pathlib import Path\n",
    "\n",
    "sys.path.append(str(Path().cwd().parent))\n",
    "\n",
    "from langchain.agents import initialize_agent, AgentType\n",
    "from playwright.async_api import async_playwright\n",
    "from langchain_community.agent_toolkits import PlayWrightBrowserToolkit\n",
    "from llm_experiments.models import instantiate_chat"
   ]
  },
  {
   "cell_type": "code",
   "execution_count": 14,
   "metadata": {},
   "outputs": [],
   "source": [
    "model = instantiate_chat(\"4o-mini\")\n",
    "\n",
    "async with async_playwright() as p:\n",
    "    browser = await p.chromium.launch(headless=False)\n",
    "    tookkit = PlayWrightBrowserToolkit.from_browser(async_browser=browser)\n",
    "    tools = tookkit.get_tools()\n",
    "    agent = initialize_agent(tools, model, agent=AgentType.STRUCTURED_CHAT_ZERO_SHOT_REACT_DESCRIPTION, verbose=True)\n",
    "await agent.ainvoke(\"what is the weather in tokyo?\")"
   ]
  },
  {
   "cell_type": "code",
   "execution_count": null,
   "metadata": {},
   "outputs": [
    {
     "name": "stdout",
     "output_type": "stream",
     "text": [
      "\n",
      "\n",
      "\u001b[1m> Entering new AgentExecutor chain...\u001b[0m\n",
      "\u001b[32;1m\u001b[1;3mThought: I need to check the current weather conditions in Tokyo. I can navigate to a reliable weather website to get this information. \n",
      "\n",
      "Action:\n",
      "```\n",
      "{\n",
      "  \"action\": \"navigate_browser\",\n",
      "  \"action_input\": {\n",
      "    \"url\": \"https://www.weather.com/\"\n",
      "  }\n",
      "}\n",
      "```\n",
      "\u001b[0m"
     ]
    },
    {
     "ename": "TargetClosedError",
     "evalue": "Browser.new_context: Target page, context or browser has been closed",
     "output_type": "error",
     "traceback": [
      "\u001b[31m---------------------------------------------------------------------------\u001b[39m",
      "\u001b[31mTargetClosedError\u001b[39m                         Traceback (most recent call last)",
      "\u001b[36mCell\u001b[39m\u001b[36m \u001b[39m\u001b[32mIn[15]\u001b[39m\u001b[32m, line 1\u001b[39m\n\u001b[32m----> \u001b[39m\u001b[32m1\u001b[39m \u001b[38;5;28;01mawait\u001b[39;00m agent.ainvoke(\u001b[33m\"\u001b[39m\u001b[33mwhat is the weather in tokyo?\u001b[39m\u001b[33m\"\u001b[39m)\n",
      "\u001b[36mFile \u001b[39m\u001b[32m~/Developer/repo/llm_experiments/.venv/lib/python3.13/site-packages/langchain/chains/base.py:221\u001b[39m, in \u001b[36mChain.ainvoke\u001b[39m\u001b[34m(self, input, config, **kwargs)\u001b[39m\n\u001b[32m    219\u001b[39m \u001b[38;5;28;01mexcept\u001b[39;00m \u001b[38;5;167;01mBaseException\u001b[39;00m \u001b[38;5;28;01mas\u001b[39;00m e:\n\u001b[32m    220\u001b[39m     \u001b[38;5;28;01mawait\u001b[39;00m run_manager.on_chain_error(e)\n\u001b[32m--> \u001b[39m\u001b[32m221\u001b[39m     \u001b[38;5;28;01mraise\u001b[39;00m e\n\u001b[32m    222\u001b[39m \u001b[38;5;28;01mawait\u001b[39;00m run_manager.on_chain_end(outputs)\n\u001b[32m    224\u001b[39m \u001b[38;5;28;01mif\u001b[39;00m include_run_info:\n",
      "\u001b[36mFile \u001b[39m\u001b[32m~/Developer/repo/llm_experiments/.venv/lib/python3.13/site-packages/langchain/chains/base.py:212\u001b[39m, in \u001b[36mChain.ainvoke\u001b[39m\u001b[34m(self, input, config, **kwargs)\u001b[39m\n\u001b[32m    209\u001b[39m \u001b[38;5;28;01mtry\u001b[39;00m:\n\u001b[32m    210\u001b[39m     \u001b[38;5;28mself\u001b[39m._validate_inputs(inputs)\n\u001b[32m    211\u001b[39m     outputs = (\n\u001b[32m--> \u001b[39m\u001b[32m212\u001b[39m         \u001b[38;5;28;01mawait\u001b[39;00m \u001b[38;5;28mself\u001b[39m._acall(inputs, run_manager=run_manager)\n\u001b[32m    213\u001b[39m         \u001b[38;5;28;01mif\u001b[39;00m new_arg_supported\n\u001b[32m    214\u001b[39m         \u001b[38;5;28;01melse\u001b[39;00m \u001b[38;5;28;01mawait\u001b[39;00m \u001b[38;5;28mself\u001b[39m._acall(inputs)\n\u001b[32m    215\u001b[39m     )\n\u001b[32m    216\u001b[39m     final_outputs: Dict[\u001b[38;5;28mstr\u001b[39m, Any] = \u001b[38;5;28;01mawait\u001b[39;00m \u001b[38;5;28mself\u001b[39m.aprep_outputs(\n\u001b[32m    217\u001b[39m         inputs, outputs, return_only_outputs\n\u001b[32m    218\u001b[39m     )\n\u001b[32m    219\u001b[39m \u001b[38;5;28;01mexcept\u001b[39;00m \u001b[38;5;167;01mBaseException\u001b[39;00m \u001b[38;5;28;01mas\u001b[39;00m e:\n",
      "\u001b[36mFile \u001b[39m\u001b[32m~/Developer/repo/llm_experiments/.venv/lib/python3.13/site-packages/langchain/agents/agent.py:1673\u001b[39m, in \u001b[36mAgentExecutor._acall\u001b[39m\u001b[34m(self, inputs, run_manager)\u001b[39m\n\u001b[32m   1671\u001b[39m \u001b[38;5;28;01masync\u001b[39;00m \u001b[38;5;28;01mwith\u001b[39;00m asyncio_timeout(\u001b[38;5;28mself\u001b[39m.max_execution_time):\n\u001b[32m   1672\u001b[39m     \u001b[38;5;28;01mwhile\u001b[39;00m \u001b[38;5;28mself\u001b[39m._should_continue(iterations, time_elapsed):\n\u001b[32m-> \u001b[39m\u001b[32m1673\u001b[39m         next_step_output = \u001b[38;5;28;01mawait\u001b[39;00m \u001b[38;5;28mself\u001b[39m._atake_next_step(\n\u001b[32m   1674\u001b[39m             name_to_tool_map,\n\u001b[32m   1675\u001b[39m             color_mapping,\n\u001b[32m   1676\u001b[39m             inputs,\n\u001b[32m   1677\u001b[39m             intermediate_steps,\n\u001b[32m   1678\u001b[39m             run_manager=run_manager,\n\u001b[32m   1679\u001b[39m         )\n\u001b[32m   1680\u001b[39m         \u001b[38;5;28;01mif\u001b[39;00m \u001b[38;5;28misinstance\u001b[39m(next_step_output, AgentFinish):\n\u001b[32m   1681\u001b[39m             \u001b[38;5;28;01mreturn\u001b[39;00m \u001b[38;5;28;01mawait\u001b[39;00m \u001b[38;5;28mself\u001b[39m._areturn(\n\u001b[32m   1682\u001b[39m                 next_step_output,\n\u001b[32m   1683\u001b[39m                 intermediate_steps,\n\u001b[32m   1684\u001b[39m                 run_manager=run_manager,\n\u001b[32m   1685\u001b[39m             )\n",
      "\u001b[36mFile \u001b[39m\u001b[32m~/Developer/repo/llm_experiments/.venv/lib/python3.13/site-packages/langchain/agents/agent.py:1467\u001b[39m, in \u001b[36mAgentExecutor._atake_next_step\u001b[39m\u001b[34m(self, name_to_tool_map, color_mapping, inputs, intermediate_steps, run_manager)\u001b[39m\n\u001b[32m   1458\u001b[39m \u001b[38;5;28;01masync\u001b[39;00m \u001b[38;5;28;01mdef\u001b[39;00m\u001b[38;5;250m \u001b[39m\u001b[34m_atake_next_step\u001b[39m(\n\u001b[32m   1459\u001b[39m     \u001b[38;5;28mself\u001b[39m,\n\u001b[32m   1460\u001b[39m     name_to_tool_map: Dict[\u001b[38;5;28mstr\u001b[39m, BaseTool],\n\u001b[32m   (...)\u001b[39m\u001b[32m   1464\u001b[39m     run_manager: Optional[AsyncCallbackManagerForChainRun] = \u001b[38;5;28;01mNone\u001b[39;00m,\n\u001b[32m   1465\u001b[39m ) -> Union[AgentFinish, List[Tuple[AgentAction, \u001b[38;5;28mstr\u001b[39m]]]:\n\u001b[32m   1466\u001b[39m     \u001b[38;5;28;01mreturn\u001b[39;00m \u001b[38;5;28mself\u001b[39m._consume_next_step(\n\u001b[32m-> \u001b[39m\u001b[32m1467\u001b[39m         [\n\u001b[32m   1468\u001b[39m             a\n\u001b[32m   1469\u001b[39m             \u001b[38;5;28;01masync\u001b[39;00m \u001b[38;5;28;01mfor\u001b[39;00m a \u001b[38;5;129;01min\u001b[39;00m \u001b[38;5;28mself\u001b[39m._aiter_next_step(\n\u001b[32m   1470\u001b[39m                 name_to_tool_map,\n\u001b[32m   1471\u001b[39m                 color_mapping,\n\u001b[32m   1472\u001b[39m                 inputs,\n\u001b[32m   1473\u001b[39m                 intermediate_steps,\n\u001b[32m   1474\u001b[39m                 run_manager,\n\u001b[32m   1475\u001b[39m             )\n\u001b[32m   1476\u001b[39m         ]\n\u001b[32m   1477\u001b[39m     )\n",
      "\u001b[36mFile \u001b[39m\u001b[32m~/Developer/repo/llm_experiments/.venv/lib/python3.13/site-packages/langchain/agents/agent.py:1551\u001b[39m, in \u001b[36mAgentExecutor._aiter_next_step\u001b[39m\u001b[34m(self, name_to_tool_map, color_mapping, inputs, intermediate_steps, run_manager)\u001b[39m\n\u001b[32m   1548\u001b[39m     \u001b[38;5;28;01myield\u001b[39;00m agent_action\n\u001b[32m   1550\u001b[39m \u001b[38;5;66;03m# Use asyncio.gather to run multiple tool.arun() calls concurrently\u001b[39;00m\n\u001b[32m-> \u001b[39m\u001b[32m1551\u001b[39m result = \u001b[38;5;28;01mawait\u001b[39;00m asyncio.gather(\n\u001b[32m   1552\u001b[39m     *[\n\u001b[32m   1553\u001b[39m         \u001b[38;5;28mself\u001b[39m._aperform_agent_action(\n\u001b[32m   1554\u001b[39m             name_to_tool_map, color_mapping, agent_action, run_manager\n\u001b[32m   1555\u001b[39m         )\n\u001b[32m   1556\u001b[39m         \u001b[38;5;28;01mfor\u001b[39;00m agent_action \u001b[38;5;129;01min\u001b[39;00m actions\n\u001b[32m   1557\u001b[39m     ],\n\u001b[32m   1558\u001b[39m )\n\u001b[32m   1560\u001b[39m \u001b[38;5;66;03m# TODO This could yield each result as it becomes available\u001b[39;00m\n\u001b[32m   1561\u001b[39m \u001b[38;5;28;01mfor\u001b[39;00m chunk \u001b[38;5;129;01min\u001b[39;00m result:\n",
      "\u001b[36mFile \u001b[39m\u001b[32m~/Developer/repo/llm_experiments/.venv/lib/python3.13/site-packages/langchain/agents/agent.py:1584\u001b[39m, in \u001b[36mAgentExecutor._aperform_agent_action\u001b[39m\u001b[34m(self, name_to_tool_map, color_mapping, agent_action, run_manager)\u001b[39m\n\u001b[32m   1582\u001b[39m         tool_run_kwargs[\u001b[33m\"\u001b[39m\u001b[33mllm_prefix\u001b[39m\u001b[33m\"\u001b[39m] = \u001b[33m\"\u001b[39m\u001b[33m\"\u001b[39m\n\u001b[32m   1583\u001b[39m     \u001b[38;5;66;03m# We then call the tool on the tool input to get an observation\u001b[39;00m\n\u001b[32m-> \u001b[39m\u001b[32m1584\u001b[39m     observation = \u001b[38;5;28;01mawait\u001b[39;00m tool.arun(\n\u001b[32m   1585\u001b[39m         agent_action.tool_input,\n\u001b[32m   1586\u001b[39m         verbose=\u001b[38;5;28mself\u001b[39m.verbose,\n\u001b[32m   1587\u001b[39m         color=color,\n\u001b[32m   1588\u001b[39m         callbacks=run_manager.get_child() \u001b[38;5;28;01mif\u001b[39;00m run_manager \u001b[38;5;28;01melse\u001b[39;00m \u001b[38;5;28;01mNone\u001b[39;00m,\n\u001b[32m   1589\u001b[39m         **tool_run_kwargs,\n\u001b[32m   1590\u001b[39m     )\n\u001b[32m   1591\u001b[39m \u001b[38;5;28;01melse\u001b[39;00m:\n\u001b[32m   1592\u001b[39m     tool_run_kwargs = \u001b[38;5;28mself\u001b[39m._action_agent.tool_run_logging_kwargs()\n",
      "\u001b[36mFile \u001b[39m\u001b[32m~/Developer/repo/llm_experiments/.venv/lib/python3.13/site-packages/langchain_core/tools/base.py:877\u001b[39m, in \u001b[36mBaseTool.arun\u001b[39m\u001b[34m(self, tool_input, verbose, start_color, color, callbacks, tags, metadata, run_name, run_id, config, tool_call_id, **kwargs)\u001b[39m\n\u001b[32m    875\u001b[39m \u001b[38;5;28;01mif\u001b[39;00m error_to_raise:\n\u001b[32m    876\u001b[39m     \u001b[38;5;28;01mawait\u001b[39;00m run_manager.on_tool_error(error_to_raise)\n\u001b[32m--> \u001b[39m\u001b[32m877\u001b[39m     \u001b[38;5;28;01mraise\u001b[39;00m error_to_raise\n\u001b[32m    879\u001b[39m output = _format_output(content, artifact, tool_call_id, \u001b[38;5;28mself\u001b[39m.name, status)\n\u001b[32m    880\u001b[39m \u001b[38;5;28;01mawait\u001b[39;00m run_manager.on_tool_end(output, color=color, name=\u001b[38;5;28mself\u001b[39m.name, **kwargs)\n",
      "\u001b[36mFile \u001b[39m\u001b[32m~/Developer/repo/llm_experiments/.venv/lib/python3.13/site-packages/langchain_core/tools/base.py:844\u001b[39m, in \u001b[36mBaseTool.arun\u001b[39m\u001b[34m(self, tool_input, verbose, start_color, color, callbacks, tags, metadata, run_name, run_id, config, tool_call_id, **kwargs)\u001b[39m\n\u001b[32m    842\u001b[39m coro = context.run(\u001b[38;5;28mself\u001b[39m._arun, *tool_args, **tool_kwargs)\n\u001b[32m    843\u001b[39m \u001b[38;5;28;01mif\u001b[39;00m asyncio_accepts_context():\n\u001b[32m--> \u001b[39m\u001b[32m844\u001b[39m     response = \u001b[38;5;28;01mawait\u001b[39;00m asyncio.create_task(coro, context=context)  \u001b[38;5;66;03m# type: ignore\u001b[39;00m\n\u001b[32m    845\u001b[39m \u001b[38;5;28;01melse\u001b[39;00m:\n\u001b[32m    846\u001b[39m     response = \u001b[38;5;28;01mawait\u001b[39;00m coro\n",
      "\u001b[36mFile \u001b[39m\u001b[32m~/Developer/repo/llm_experiments/.venv/lib/python3.13/site-packages/langchain_community/tools/playwright/navigate.py:80\u001b[39m, in \u001b[36mNavigateTool._arun\u001b[39m\u001b[34m(self, url, run_manager)\u001b[39m\n\u001b[32m     78\u001b[39m \u001b[38;5;28;01mif\u001b[39;00m \u001b[38;5;28mself\u001b[39m.async_browser \u001b[38;5;129;01mis\u001b[39;00m \u001b[38;5;28;01mNone\u001b[39;00m:\n\u001b[32m     79\u001b[39m     \u001b[38;5;28;01mraise\u001b[39;00m \u001b[38;5;167;01mValueError\u001b[39;00m(\u001b[33mf\u001b[39m\u001b[33m\"\u001b[39m\u001b[33mAsynchronous browser not provided to \u001b[39m\u001b[38;5;132;01m{\u001b[39;00m\u001b[38;5;28mself\u001b[39m.name\u001b[38;5;132;01m}\u001b[39;00m\u001b[33m\"\u001b[39m)\n\u001b[32m---> \u001b[39m\u001b[32m80\u001b[39m page = \u001b[38;5;28;01mawait\u001b[39;00m aget_current_page(\u001b[38;5;28mself\u001b[39m.async_browser)\n\u001b[32m     81\u001b[39m response = \u001b[38;5;28;01mawait\u001b[39;00m page.goto(url)\n\u001b[32m     82\u001b[39m status = response.status \u001b[38;5;28;01mif\u001b[39;00m response \u001b[38;5;28;01melse\u001b[39;00m \u001b[33m\"\u001b[39m\u001b[33munknown\u001b[39m\u001b[33m\"\u001b[39m\n",
      "\u001b[36mFile \u001b[39m\u001b[32m~/Developer/repo/llm_experiments/.venv/lib/python3.13/site-packages/langchain_community/tools/playwright/utils.py:26\u001b[39m, in \u001b[36maget_current_page\u001b[39m\u001b[34m(browser)\u001b[39m\n\u001b[32m     16\u001b[39m \u001b[38;5;250m\u001b[39m\u001b[33;03m\"\"\"\u001b[39;00m\n\u001b[32m     17\u001b[39m \u001b[33;03mAsynchronously get the current page of the browser.\u001b[39;00m\n\u001b[32m     18\u001b[39m \n\u001b[32m   (...)\u001b[39m\u001b[32m     23\u001b[39m \u001b[33;03m    AsyncPage: The current page.\u001b[39;00m\n\u001b[32m     24\u001b[39m \u001b[33;03m\"\"\"\u001b[39;00m\n\u001b[32m     25\u001b[39m \u001b[38;5;28;01mif\u001b[39;00m \u001b[38;5;129;01mnot\u001b[39;00m browser.contexts:\n\u001b[32m---> \u001b[39m\u001b[32m26\u001b[39m     context = \u001b[38;5;28;01mawait\u001b[39;00m browser.new_context()\n\u001b[32m     27\u001b[39m     \u001b[38;5;28;01mreturn\u001b[39;00m \u001b[38;5;28;01mawait\u001b[39;00m context.new_page()\n\u001b[32m     28\u001b[39m context = browser.contexts[\u001b[32m0\u001b[39m]  \u001b[38;5;66;03m# Assuming you're using the default browser context\u001b[39;00m\n",
      "\u001b[36mFile \u001b[39m\u001b[32m~/Developer/repo/llm_experiments/.venv/lib/python3.13/site-packages/playwright/async_api/_generated.py:13905\u001b[39m, in \u001b[36mBrowser.new_context\u001b[39m\u001b[34m(self, viewport, screen, no_viewport, ignore_https_errors, java_script_enabled, bypass_csp, user_agent, locale, timezone_id, geolocation, permissions, extra_http_headers, offline, http_credentials, device_scale_factor, is_mobile, has_touch, color_scheme, reduced_motion, forced_colors, accept_downloads, default_browser_type, proxy, record_har_path, record_har_omit_content, record_video_dir, record_video_size, storage_state, base_url, strict_selectors, service_workers, record_har_url_filter, record_har_mode, record_har_content, client_certificates)\u001b[39m\n\u001b[32m  13703\u001b[39m \u001b[38;5;28;01masync\u001b[39;00m \u001b[38;5;28;01mdef\u001b[39;00m\u001b[38;5;250m \u001b[39m\u001b[34mnew_context\u001b[39m(\n\u001b[32m  13704\u001b[39m     \u001b[38;5;28mself\u001b[39m,\n\u001b[32m  13705\u001b[39m     *,\n\u001b[32m   (...)\u001b[39m\u001b[32m  13748\u001b[39m     client_certificates: typing.Optional[typing.List[ClientCertificate]] = \u001b[38;5;28;01mNone\u001b[39;00m,\n\u001b[32m  13749\u001b[39m ) -> \u001b[33m\"\u001b[39m\u001b[33mBrowserContext\u001b[39m\u001b[33m\"\u001b[39m:\n\u001b[32m  13750\u001b[39m \u001b[38;5;250m    \u001b[39m\u001b[33;03m\"\"\"Browser.new_context\u001b[39;00m\n\u001b[32m  13751\u001b[39m \n\u001b[32m  13752\u001b[39m \u001b[33;03m    Creates a new browser context. It won't share cookies/cache with other browser contexts.\u001b[39;00m\n\u001b[32m   (...)\u001b[39m\u001b[32m  13901\u001b[39m \u001b[33;03m    BrowserContext\u001b[39;00m\n\u001b[32m  13902\u001b[39m \u001b[33;03m    \"\"\"\u001b[39;00m\n\u001b[32m  13904\u001b[39m     \u001b[38;5;28;01mreturn\u001b[39;00m mapping.from_impl(\n\u001b[32m> \u001b[39m\u001b[32m13905\u001b[39m         \u001b[38;5;28;01mawait\u001b[39;00m \u001b[38;5;28mself\u001b[39m._impl_obj.new_context(\n\u001b[32m  13906\u001b[39m             viewport=viewport,\n\u001b[32m  13907\u001b[39m             screen=screen,\n\u001b[32m  13908\u001b[39m             noViewport=no_viewport,\n\u001b[32m  13909\u001b[39m             ignoreHTTPSErrors=ignore_https_errors,\n\u001b[32m  13910\u001b[39m             javaScriptEnabled=java_script_enabled,\n\u001b[32m  13911\u001b[39m             bypassCSP=bypass_csp,\n\u001b[32m  13912\u001b[39m             userAgent=user_agent,\n\u001b[32m  13913\u001b[39m             locale=locale,\n\u001b[32m  13914\u001b[39m             timezoneId=timezone_id,\n\u001b[32m  13915\u001b[39m             geolocation=geolocation,\n\u001b[32m  13916\u001b[39m             permissions=mapping.to_impl(permissions),\n\u001b[32m  13917\u001b[39m             extraHTTPHeaders=mapping.to_impl(extra_http_headers),\n\u001b[32m  13918\u001b[39m             offline=offline,\n\u001b[32m  13919\u001b[39m             httpCredentials=http_credentials,\n\u001b[32m  13920\u001b[39m             deviceScaleFactor=device_scale_factor,\n\u001b[32m  13921\u001b[39m             isMobile=is_mobile,\n\u001b[32m  13922\u001b[39m             hasTouch=has_touch,\n\u001b[32m  13923\u001b[39m             colorScheme=color_scheme,\n\u001b[32m  13924\u001b[39m             reducedMotion=reduced_motion,\n\u001b[32m  13925\u001b[39m             forcedColors=forced_colors,\n\u001b[32m  13926\u001b[39m             acceptDownloads=accept_downloads,\n\u001b[32m  13927\u001b[39m             defaultBrowserType=default_browser_type,\n\u001b[32m  13928\u001b[39m             proxy=proxy,\n\u001b[32m  13929\u001b[39m             recordHarPath=record_har_path,\n\u001b[32m  13930\u001b[39m             recordHarOmitContent=record_har_omit_content,\n\u001b[32m  13931\u001b[39m             recordVideoDir=record_video_dir,\n\u001b[32m  13932\u001b[39m             recordVideoSize=record_video_size,\n\u001b[32m  13933\u001b[39m             storageState=storage_state,\n\u001b[32m  13934\u001b[39m             baseURL=base_url,\n\u001b[32m  13935\u001b[39m             strictSelectors=strict_selectors,\n\u001b[32m  13936\u001b[39m             serviceWorkers=service_workers,\n\u001b[32m  13937\u001b[39m             recordHarUrlFilter=record_har_url_filter,\n\u001b[32m  13938\u001b[39m             recordHarMode=record_har_mode,\n\u001b[32m  13939\u001b[39m             recordHarContent=record_har_content,\n\u001b[32m  13940\u001b[39m             clientCertificates=client_certificates,\n\u001b[32m  13941\u001b[39m         )\n\u001b[32m  13942\u001b[39m     )\n",
      "\u001b[36mFile \u001b[39m\u001b[32m~/Developer/repo/llm_experiments/.venv/lib/python3.13/site-packages/playwright/_impl/_browser.py:129\u001b[39m, in \u001b[36mBrowser.new_context\u001b[39m\u001b[34m(self, viewport, screen, noViewport, ignoreHTTPSErrors, javaScriptEnabled, bypassCSP, userAgent, locale, timezoneId, geolocation, permissions, extraHTTPHeaders, offline, httpCredentials, deviceScaleFactor, isMobile, hasTouch, colorScheme, reducedMotion, forcedColors, acceptDownloads, defaultBrowserType, proxy, recordHarPath, recordHarOmitContent, recordVideoDir, recordVideoSize, storageState, baseURL, strictSelectors, serviceWorkers, recordHarUrlFilter, recordHarMode, recordHarContent, clientCertificates)\u001b[39m\n\u001b[32m    126\u001b[39m params = locals_to_params(\u001b[38;5;28mlocals\u001b[39m())\n\u001b[32m    127\u001b[39m \u001b[38;5;28;01mawait\u001b[39;00m prepare_browser_context_params(params)\n\u001b[32m--> \u001b[39m\u001b[32m129\u001b[39m channel = \u001b[38;5;28;01mawait\u001b[39;00m \u001b[38;5;28mself\u001b[39m._channel.send(\u001b[33m\"\u001b[39m\u001b[33mnewContext\u001b[39m\u001b[33m\"\u001b[39m, params)\n\u001b[32m    130\u001b[39m context = cast(BrowserContext, from_channel(channel))\n\u001b[32m    131\u001b[39m \u001b[38;5;28mself\u001b[39m._browser_type._did_create_context(context, params, {})\n",
      "\u001b[36mFile \u001b[39m\u001b[32m~/Developer/repo/llm_experiments/.venv/lib/python3.13/site-packages/playwright/_impl/_connection.py:61\u001b[39m, in \u001b[36mChannel.send\u001b[39m\u001b[34m(self, method, params)\u001b[39m\n\u001b[32m     60\u001b[39m \u001b[38;5;28;01masync\u001b[39;00m \u001b[38;5;28;01mdef\u001b[39;00m\u001b[38;5;250m \u001b[39m\u001b[34msend\u001b[39m(\u001b[38;5;28mself\u001b[39m, method: \u001b[38;5;28mstr\u001b[39m, params: Dict = \u001b[38;5;28;01mNone\u001b[39;00m) -> Any:\n\u001b[32m---> \u001b[39m\u001b[32m61\u001b[39m     \u001b[38;5;28;01mreturn\u001b[39;00m \u001b[38;5;28;01mawait\u001b[39;00m \u001b[38;5;28mself\u001b[39m._connection.wrap_api_call(\n\u001b[32m     62\u001b[39m         \u001b[38;5;28;01mlambda\u001b[39;00m: \u001b[38;5;28mself\u001b[39m._inner_send(method, params, \u001b[38;5;28;01mFalse\u001b[39;00m),\n\u001b[32m     63\u001b[39m         \u001b[38;5;28mself\u001b[39m._is_internal_type,\n\u001b[32m     64\u001b[39m     )\n",
      "\u001b[36mFile \u001b[39m\u001b[32m~/Developer/repo/llm_experiments/.venv/lib/python3.13/site-packages/playwright/_impl/_connection.py:528\u001b[39m, in \u001b[36mConnection.wrap_api_call\u001b[39m\u001b[34m(self, cb, is_internal)\u001b[39m\n\u001b[32m    526\u001b[39m     \u001b[38;5;28;01mreturn\u001b[39;00m \u001b[38;5;28;01mawait\u001b[39;00m cb()\n\u001b[32m    527\u001b[39m \u001b[38;5;28;01mexcept\u001b[39;00m \u001b[38;5;167;01mException\u001b[39;00m \u001b[38;5;28;01mas\u001b[39;00m error:\n\u001b[32m--> \u001b[39m\u001b[32m528\u001b[39m     \u001b[38;5;28;01mraise\u001b[39;00m rewrite_error(error, \u001b[33mf\u001b[39m\u001b[33m\"\u001b[39m\u001b[38;5;132;01m{\u001b[39;00mparsed_st[\u001b[33m'\u001b[39m\u001b[33mapiName\u001b[39m\u001b[33m'\u001b[39m]\u001b[38;5;132;01m}\u001b[39;00m\u001b[33m: \u001b[39m\u001b[38;5;132;01m{\u001b[39;00merror\u001b[38;5;132;01m}\u001b[39;00m\u001b[33m\"\u001b[39m) \u001b[38;5;28;01mfrom\u001b[39;00m\u001b[38;5;250m \u001b[39m\u001b[38;5;28;01mNone\u001b[39;00m\n\u001b[32m    529\u001b[39m \u001b[38;5;28;01mfinally\u001b[39;00m:\n\u001b[32m    530\u001b[39m     \u001b[38;5;28mself\u001b[39m._api_zone.set(\u001b[38;5;28;01mNone\u001b[39;00m)\n",
      "\u001b[31mTargetClosedError\u001b[39m: Browser.new_context: Target page, context or browser has been closed"
     ]
    }
   ],
   "source": []
  },
  {
   "cell_type": "code",
   "execution_count": null,
   "metadata": {},
   "outputs": [],
   "source": []
  }
 ],
 "metadata": {
  "kernelspec": {
   "display_name": "Python 3",
   "language": "python",
   "name": "python3"
  },
  "language_info": {
   "codemirror_mode": {
    "name": "ipython",
    "version": 3
   },
   "file_extension": ".py",
   "mimetype": "text/x-python",
   "name": "python",
   "nbconvert_exporter": "python",
   "pygments_lexer": "ipython3",
   "version": "3.13.2"
  }
 },
 "nbformat": 4,
 "nbformat_minor": 2
}
