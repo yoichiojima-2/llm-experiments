{
 "cells": [
  {
   "cell_type": "code",
   "execution_count": 69,
   "metadata": {},
   "outputs": [],
   "source": [
    "import sys\n",
    "from pathlib import Path\n",
    "import typing as t\n",
    "from langgraph.graph import StateGraph, START, END\n",
    "import textwrap\n",
    "\n",
    "sys.path.append(str(Path().cwd().parent))\n",
    "\n",
    "from llm_experiments.models import instantiate_chat"
   ]
  },
  {
   "cell_type": "code",
   "execution_count": 70,
   "metadata": {},
   "outputs": [],
   "source": [
    "class State(t.TypedDict):\n",
    "    query: str\n",
    "    first_answer: str\n",
    "    is_a_fact: bool\n",
    "    summarized_answer: str"
   ]
  },
  {
   "cell_type": "code",
   "execution_count": 71,
   "metadata": {},
   "outputs": [],
   "source": [
    "model = instantiate_chat(\"4o-mini\")"
   ]
  },
  {
   "cell_type": "code",
   "execution_count": 72,
   "metadata": {},
   "outputs": [],
   "source": [
    "def generate_first_answer(state: State):\n",
    "    msg = model.invoke(f\"answer question: {state['query']}\")\n",
    "    return {\"first_answer\": msg.content}\n",
    "\n",
    "\n",
    "def fact_check(state: State):\n",
    "    msg = model.invoke(f\"do a fact check on the following answer: {state['first_answer']}\\n. answer only with true or false\")\n",
    "    return {\"is_a_fact\": msg.content}\n",
    "\n",
    "\n",
    "def check_if_answer_is_a_fact(state: State):\n",
    "    if state[\"is_a_fact\"]:\n",
    "        return \"true\"\n",
    "    else:\n",
    "        return \"false\"\n",
    "\n",
    "\n",
    "def summarize_answer(state: State):\n",
    "    msg = model.invoke(f\"summarize the answer: {state['first_answer']}\")\n",
    "    return {\"summarized_answer\": msg.content}\n",
    "\n",
    "\n",
    "graph = StateGraph(State)\n",
    "graph.add_node(\"generate_first_answer\", generate_first_answer)\n",
    "graph.add_node(\"fact_check\", fact_check)\n",
    "graph.add_node(\"summarize_answer\", summarize_answer)\n",
    "\n",
    "graph.add_edge(START, \"generate_first_answer\")\n",
    "graph.add_edge(\"generate_first_answer\", \"fact_check\")\n",
    "graph.add_conditional_edges(\"fact_check\", check_if_answer_is_a_fact, {\"true\": \"summarize_answer\", \"false\": END})\n",
    "graph.add_edge(\"summarize_answer\", END)\n",
    "\n",
    "chain = graph.compile()"
   ]
  },
  {
   "cell_type": "code",
   "execution_count": 73,
   "metadata": {},
   "outputs": [
    {
     "data": {
      "image/png": "[encoded data removed]",
      "text/plain": [
       "<IPython.core.display.Image object>"
      ]
     },
     "metadata": {},
     "output_type": "display_data"
    }
   ],
   "source": [
    "from IPython.display import display\n",
    "from IPython.display import Image\n",
    "\n",
    "display(Image(chain.get_graph().draw_mermaid_png()))"
   ]
  },
  {
   "cell_type": "code",
   "execution_count": 76,
   "metadata": {},
   "outputs": [
    {
     "name": "stdout",
     "output_type": "stream",
     "text": [
      "query\n",
      "who is the president of the united states?\n",
      "\n",
      "first_answer\n",
      "As of my last knowledge update in October 2023, Joe Biden is the President of the United States. He has been in office since January 20, 2021. Please verify with up-to-date sources, as political situations can change.\n",
      "\n",
      "is_a_fact\n",
      "True\n",
      "\n",
      "summarized_answer\n",
      "Joe Biden is the President of the United States, having taken office on January 20, 2021. Please check current sources for the latest information.\n",
      "\n"
     ]
    }
   ],
   "source": [
    "for k, v in chain.invoke({\"query\": \"who is the president of the united states?\"}).items():\n",
    "    print(k)\n",
    "    print(v)\n",
    "    print()"
   ]
  },
  {
   "cell_type": "code",
   "execution_count": 77,
   "metadata": {},
   "outputs": [],
   "source": [
    "class State(t.TypedDict):\n",
    "    topic: str\n",
    "    liberal_opinion: str\n",
    "    conservative_opinion: str\n",
    "    compromised_opinion: str"
   ]
  },
  {
   "cell_type": "code",
   "execution_count": 78,
   "metadata": {},
   "outputs": [],
   "source": [
    "def generate_liberal_opinion(state: State):\n",
    "    input_text = textwrap.dedent(\n",
    "        f\"\"\"\n",
    "        you are a partisan of a debate.\n",
    "        you are given a topic and you need to say a liberal opinion on the topic.\n",
    "        topic: {state[\"topic\"]}\n",
    "        \"\"\"\n",
    "    )\n",
    "    msg = model.invoke(input_text)\n",
    "    return {\"liberal_opinion\": msg.content}\n",
    "\n",
    "\n",
    "def generate_conservative_opinion(state: State):\n",
    "    input_text = textwrap.dedent(\n",
    "        f\"\"\"\n",
    "        you are a partisan of a debate.\n",
    "        you are given a topic and you need to say a conservative opinion on the topic.\n",
    "        topic: {state[\"topic\"]}\n",
    "        \"\"\"\n",
    "    )\n",
    "    msg = model.invoke(input_text)\n",
    "    return {\"conservative_opinion\": msg.content}\n",
    "\n",
    "\n",
    "def find_a_compromise(state: State):\n",
    "    input_text = textwrap.dedent(\n",
    "        f\"\"\"\n",
    "        you are a political analyst.\n",
    "        you are given two opinions on a topic and you need to find a compromise between the two.\n",
    "        topic: {state[\"topic\"]}\n",
    "        liberal opinion: {state[\"liberal_opinion\"]}\n",
    "        conservative opinion: {state[\"conservative_opinion\"]}\n",
    "        \"\"\"\n",
    "    )\n",
    "    msg = model.invoke(input_text)\n",
    "    return {\"compromised_opinion\": msg.content}\n",
    "\n",
    "\n",
    "graph = StateGraph(State)\n",
    "graph.add_node(\"generate_liberal_opinion\", generate_liberal_opinion)\n",
    "graph.add_node(\"generate_conservative_opinion\", generate_conservative_opinion)\n",
    "graph.add_node(\"find_a_compromise\", find_a_compromise)\n",
    "\n",
    "graph.add_edge(START, \"generate_liberal_opinion\")\n",
    "graph.add_edge(START, \"generate_conservative_opinion\")\n",
    "graph.add_edge(\"generate_liberal_opinion\", \"find_a_compromise\")\n",
    "graph.add_edge(\"generate_conservative_opinion\", \"find_a_compromise\")\n",
    "graph.add_edge(\"find_a_compromise\", END)\n",
    "\n",
    "chain = graph.compile()"
   ]
  },
  {
   "cell_type": "code",
   "execution_count": 79,
   "metadata": {},
   "outputs": [
    {
     "data": {
      "image/png": "[encoded data removed]",
      "text/plain": [
       "<IPython.core.display.Image object>"
      ]
     },
     "metadata": {},
     "output_type": "display_data"
    }
   ],
   "source": [
    "from IPython.display import display\n",
    "\n",
    "display(Image(chain.get_graph().draw_mermaid_png()))"
   ]
  },
  {
   "cell_type": "code",
   "execution_count": 82,
   "metadata": {},
   "outputs": [
    {
     "name": "stdout",
     "output_type": "stream",
     "text": [
      "topic\n",
      "migrants\n",
      "\n",
      "liberal_opinion\n",
      "As a liberal voice in the debate on migrants, I firmly believe that our approach to migration should be rooted in compassion, human rights, and the recognition of the invaluable contributions migrants make to our society. \n",
      "\n",
      "First and foremost, it's essential to understand that migrants often leave their home countries due to dire circumstances, including conflict, persecution, and economic hardship. We have a moral obligation to provide refuge and support to those seeking a better life, as it reflects our shared values of empathy and solidarity.\n",
      "\n",
      "Moreover, migrants play a crucial role in our economy. They fill essential jobs, contribute to innovation, and help sustain the labor force, particularly in industries that rely on migrant labor. By embracing migrants, we are not only supporting individuals and families but also fostering economic growth and vitality in our communities.\n",
      "\n",
      "In addition, a welcoming stance on migration promotes cultural diversity, enriching our society with different perspectives, traditions, and ideas. This diversity is a source of strength that drives creativity and progress, helping us to build a more inclusive and dynamic society.\n",
      "\n",
      "We must also advocate for fair and humane immigration policies that prioritize family reunification and pathways to citizenship. By creating a system that acknowledges the humanity of migrants, we build a society that values all individuals, regardless of their origin.\n",
      "\n",
      "In conclusion, my liberal perspective on migrants is grounded in the belief that we should prioritize compassion, recognize the positive contributions of migrants, and strive for policies that uphold human rights and dignity for all. We are stronger together, and embracing migrants is an essential part of building a just and equitable society.\n",
      "\n",
      "conservative_opinion\n",
      "As a conservative, I believe that while it's important to show compassion and support for those seeking a better life, we must prioritize our nation's security and the rule of law when it comes to migration. Here are some key points that underscore this perspective:\n",
      "\n",
      "1. **Border Security**: A secure border is essential for national security. We must invest in effective barriers, technology, and personnel to prevent illegal immigration and ensure that we know who is entering our country.\n",
      "\n",
      "2. **Rule of Law**: Upholding the law is vital for our democracy. We should enforce existing immigration laws and ensure that those who enter our country do so legally. Allowing unchecked migration undermines our legal system and sends the wrong message about our immigration policies.\n",
      "\n",
      "3. **Economic Impact**: While immigrants can contribute positively to the economy, uncontrolled migration can strain public services, such as healthcare and education, and can lead to job competition for low-skilled workers, which can hurt the most vulnerable members of our society.\n",
      "\n",
      "4. **Integration and Assimilation**: It’s crucial for migrants to assimilate into our culture and values. This not only helps maintain social cohesion but also ensures that new members of society understand and respect the principles on which our nation is built.\n",
      "\n",
      "5. **Refugee and Asylum Policies**: We should have a robust system for processing refugees and asylum seekers, but this system must be fair, efficient, and secure. We must ensure that those who are truly in need receive assistance, while also preventing abuse of the system.\n",
      "\n",
      "In summary, while we can be compassionate towards migrants, we must prioritize the safety, security, and legal integrity of our nation, ensuring that our immigration system operates effectively and fairly.\n",
      "\n",
      "compromised_opinion\n",
      "Finding common ground between these two views on migration requires a nuanced approach that acknowledges the concerns of both perspectives while fostering a collaborative dialogue on solutions. Here's a potential compromise:\n",
      "\n",
      "**Balanced Migration Approach:**\n",
      "\n",
      "1. **Enhanced Border Security with Compassionate Protocols**: \n",
      "   - Recognize the importance of border security as a means to protect national interests while simultaneously implementing humane policies that facilitate legal entry for migrants. This could involve investing in technology and personnel to ensure thorough vetting processes for those seeking asylum or refugee status without compromising their human dignity.\n",
      "\n",
      "2. **Streamlined Legal Immigration Pathways**: \n",
      "   - Both sides can agree on the need for a clear, efficient, and fair immigration process that prioritizes lawful entry. This process should include pathways to citizenship for those who have demonstrated their commitment to contributing to society, allowing migrants to integrate successfully while respecting the rule of law.\n",
      "\n",
      "3. **Support for Integration and Assimilation**: \n",
      "   - Develop comprehensive programs that not only assist migrants in understanding the laws and values of the host country but also support cultural exchange. This could include language classes, job training, and community engagement initiatives that promote mutual understanding and social cohesion.\n",
      "\n",
      "4. **Economic Contributions and Responsibility Sharing**: \n",
      "   - Acknowledge the economic benefits of migration while also addressing the concerns about public services. This can be achieved by ensuring that migrants contribute to social systems—such as taxes—while also providing support for local communities that may feel the strain of increased population density. This might involve federal support for local governments to manage the demands placed on public services.\n",
      "\n",
      "5. **Robust Refugee and Asylum Policies with Safeguards**: \n",
      "   - Establish a refugee and asylum process that is both accessible and secure, ensuring that those genuinely in need of protection receive it promptly and fairly. At the same time, implement measures to prevent abuse of the system, ensuring that those entering the country are genuinely fleeing persecution or conflict.\n",
      "\n",
      "6. **Public Awareness and Dialogue**: \n",
      "   - Foster a national dialogue around immigration, recognizing its complexities and dispelling myths. This could involve educational campaigns that highlight the positive contributions of migrants, while also facilitating conversations about security and legal immigration.\n",
      "\n",
      "By blending compassion with responsibility, this approach aims to create a comprehensive immigration system that values the contributions of migrants while addressing the legitimate concerns about security and social cohesion. This compromise seeks to uphold the principles of human rights and dignity for all, strengthening the social fabric of society as a whole.\n",
      "\n"
     ]
    }
   ],
   "source": [
    "for k, v in chain.invoke({\"topic\": \"migrants\"}).items():\n",
    "    print(k)\n",
    "    print(v)\n",
    "    print()"
   ]
  },
  {
   "cell_type": "code",
   "execution_count": null,
   "metadata": {},
   "outputs": [],
   "source": []
  }
 ],
 "metadata": {
  "kernelspec": {
   "display_name": ".venv",
   "language": "python",
   "name": "python3"
  },
  "language_info": {
   "codemirror_mode": {
    "name": "ipython",
    "version": 3
   },
   "file_extension": ".py",
   "mimetype": "text/x-python",
   "name": "python",
   "nbconvert_exporter": "python",
   "pygments_lexer": "ipython3",
   "version": "3.13.2"
  }
 },
 "nbformat": 4,
 "nbformat_minor": 2
}
