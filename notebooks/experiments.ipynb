{
 "cells": [
  {
   "cell_type": "code",
   "execution_count": 1,
   "metadata": {},
   "outputs": [],
   "source": [
    "%load_ext autoreload\n",
    "%autoreload 2"
   ]
  },
  {
   "cell_type": "code",
   "execution_count": 15,
   "metadata": {},
   "outputs": [],
   "source": [
    "import sys\n",
    "from pathlib import Path\n",
    "from langchain_core.messages import HumanMessage\n",
    "from langchain_core.messages.ai import AIMessageChunk\n",
    "\n",
    "sys.path.append(str(Path().cwd().parent))"
   ]
  },
  {
   "cell_type": "code",
   "execution_count": 3,
   "metadata": {},
   "outputs": [],
   "source": [
    "from llm_experiments.rabbit import Agent"
   ]
  },
  {
   "cell_type": "code",
   "execution_count": 4,
   "metadata": {},
   "outputs": [],
   "source": [
    "agent = Agent()"
   ]
  },
  {
   "cell_type": "code",
   "execution_count": null,
   "metadata": {},
   "outputs": [
    {
     "name": "stdout",
     "output_type": "stream",
     "text": [
      "The current weather in Tokyo is:\n",
      "\n",
      "- **Temperature**: 9.3°C (48.7°F)\n",
      "- **Condition**: Partly cloudy\n",
      "- **Wind**: 18.3 mph (29.5 kph) from the NNW\n",
      "- **Humidity**: 23%\n",
      "- **Pressure**: 1015 mb\n",
      "- **Visibility**: 10 km\n",
      "\n",
      "For additional details, you can refer to [WeatherAPI](https://www.weatherapi.com/) or [World-Weather](https://world-weather.info/forecast/japan/tokyo/february-2025/)."
     ]
    }
   ],
   "source": [
    "query = \"what is the weather in tokyo?\"\n",
    "messages = [HumanMessage(content=query)]\n",
    "for i in agent.agent.stream(\n",
    "    {\"messages\": messages}, agent.config, stream_mode=\"messages\"\n",
    "):\n",
    "    if isinstance(i[0], AIMessageChunk):\n",
    "        print(i[0].content, end=\"\")"
   ]
  },
  {
   "cell_type": "code",
   "execution_count": 31,
   "metadata": {},
   "outputs": [
    {
     "data": {
      "text/plain": [
       "{'messages': [HumanMessage(content='what is the weather in tokyo?', additional_kwargs={}, response_metadata={}, id='98f918ff-c92e-487a-bfbd-4b4e3f31de04'),\n",
       "  AIMessage(content='', additional_kwargs={'tool_calls': [{'id': 'call_0LVGounjEhsm0qdMyz4P3zN1', 'function': {'arguments': '{\"query\":\"current weather in Tokyo\"}', 'name': 'tavily_search_results_json'}, 'type': 'function'}], 'refusal': None}, response_metadata={'token_usage': {'completion_tokens': 22, 'prompt_tokens': 125, 'total_tokens': 147, 'completion_tokens_details': {'accepted_prediction_tokens': 0, 'audio_tokens': 0, 'reasoning_tokens': 0, 'rejected_prediction_tokens': 0}, 'prompt_tokens_details': {'audio_tokens': 0, 'cached_tokens': 0}}, 'model_name': 'gpt-4o-mini-2024-07-18', 'system_fingerprint': 'fp_709714d124', 'finish_reason': 'tool_calls', 'logprobs': None}, id='run-3b2988a8-897e-49af-9d7d-fc4df38970aa-0', tool_calls=[{'name': 'tavily_search_results_json', 'args': {'query': 'current weather in Tokyo'}, 'id': 'call_0LVGounjEhsm0qdMyz4P3zN1', 'type': 'tool_call'}], usage_metadata={'input_tokens': 125, 'output_tokens': 22, 'total_tokens': 147, 'input_token_details': {'audio': 0, 'cache_read': 0}, 'output_token_details': {'audio': 0, 'reasoning': 0}}),\n",
       "  ToolMessage(content='[{\"url\": \"https://www.weatherapi.com/\", \"content\": \"{\\'location\\': {\\'name\\': \\'Tokyo\\', \\'region\\': \\'Tokyo\\', \\'country\\': \\'Japan\\', \\'lat\\': 35.6895, \\'lon\\': 139.6917, \\'tz_id\\': \\'Asia/Tokyo\\', \\'localtime_epoch\\': 1740378396, \\'localtime\\': \\'2025-02-24 15:26\\'}, \\'current\\': {\\'last_updated_epoch\\': 1740377700, \\'last_updated\\': \\'2025-02-24 15:15\\', \\'temp_c\\': 9.3, \\'temp_f\\': 48.7, \\'is_day\\': 1, \\'condition\\': {\\'text\\': \\'Partly cloudy\\', \\'icon\\': \\'//cdn.weatherapi.com/weather/64x64/day/116.png\\', \\'code\\': 1003}, \\'wind_mph\\': 18.3, \\'wind_kph\\': 29.5, \\'wind_degree\\': 347, \\'wind_dir\\': \\'NNW\\', \\'pressure_mb\\': 1015.0, \\'pressure_in\\': 29.97, \\'precip_mm\\': 0.0, \\'precip_in\\': 0.0, \\'humidity\\': 23, \\'cloud\\': 25, \\'feelslike_c\\': 5.7, \\'feelslike_f\\': 42.3, \\'windchill_c\\': 4.5, \\'windchill_f\\': 40.2, \\'heatindex_c\\': 8.4, \\'heatindex_f\\': 47.1, \\'dewpoint_c\\': -14.3, \\'dewpoint_f\\': 6.2, \\'vis_km\\': 10.0, \\'vis_miles\\': 6.0, \\'uv\\': 1.2, \\'gust_mph\\': 21.1, \\'gust_kph\\': 33.9}}\"}, {\"url\": \"https://world-weather.info/forecast/japan/tokyo/february-2025/\", \"content\": \"Weather in Tokyo in February 2025 (Tōkyō-to) - Detailed Weather Forecast for a Month Add the current city Search Weather World Tōkyō-to Weather in Tokyo Weather in Tokyo in February 2025 Tokyo Weather Forecast for February 2025, is based on previous years\\' statistical data. February +50°+41° +48°+41° +50°+41° +50°+43° +48°+41° +50°+41° +52°+41° +50°+43° +50°+41° +50°+41° +50°+41° +50°+41° +52°+43° +54°+45° +54°+45° +50°+43° +52°+43° +52°+41° +54°+45° +54°+45° +52°+45° +54°+45° +54°+45° +52°+43° +52°+45° +54°+45° +52°+43° +52°+41° Extended weather forecast in Tokyo HourlyWeek10-Day14-Day30-DayYear Weather in large and nearby cities Kawaguchi+43° Fuchū+43° Kashiwa+45° Tokorozawa+41° Kasukabe+45° Ageo+43° Kawagoe+43° Yokohama+45° Machida+43° Kawasaki+46° Kodaira+41° Funabashi+45° Nerima+43° Sōka+43° Ichikawa+45° Matsudo+43° Koshigaya+43° Kami-renjaku+43° world\\'s temperature today day day City or place… Copyright © 2024 «World-Weather.info» All rights reserved. Temperature units\"}]', name='tavily_search_results_json', id='5e44c7a7-3f11-4e32-ba9c-b61505d313f2', tool_call_id='call_0LVGounjEhsm0qdMyz4P3zN1', artifact={'query': 'current weather in Tokyo', 'follow_up_questions': None, 'answer': None, 'images': [], 'results': [{'title': 'Weather in Tokyo', 'url': 'https://www.weatherapi.com/', 'content': \"{'location': {'name': 'Tokyo', 'region': 'Tokyo', 'country': 'Japan', 'lat': 35.6895, 'lon': 139.6917, 'tz_id': 'Asia/Tokyo', 'localtime_epoch': 1740378396, 'localtime': '2025-02-24 15:26'}, 'current': {'last_updated_epoch': 1740377700, 'last_updated': '2025-02-24 15:15', 'temp_c': 9.3, 'temp_f': 48.7, 'is_day': 1, 'condition': {'text': 'Partly cloudy', 'icon': '//cdn.weatherapi.com/weather/64x64/day/116.png', 'code': 1003}, 'wind_mph': 18.3, 'wind_kph': 29.5, 'wind_degree': 347, 'wind_dir': 'NNW', 'pressure_mb': 1015.0, 'pressure_in': 29.97, 'precip_mm': 0.0, 'precip_in': 0.0, 'humidity': 23, 'cloud': 25, 'feelslike_c': 5.7, 'feelslike_f': 42.3, 'windchill_c': 4.5, 'windchill_f': 40.2, 'heatindex_c': 8.4, 'heatindex_f': 47.1, 'dewpoint_c': -14.3, 'dewpoint_f': 6.2, 'vis_km': 10.0, 'vis_miles': 6.0, 'uv': 1.2, 'gust_mph': 21.1, 'gust_kph': 33.9}}\", 'score': 0.9219672, 'raw_content': None}, {'url': 'https://world-weather.info/forecast/japan/tokyo/february-2025/', 'title': 'Weather in Tokyo in February 2025 (Tōkyō-to) - World-Weather.info', 'content': \"Weather in Tokyo in February 2025 (Tōkyō-to) - Detailed Weather Forecast for a Month Add the current city Search Weather World Tōkyō-to Weather in Tokyo Weather in Tokyo in February 2025 Tokyo Weather Forecast for February 2025, is based on previous years' statistical data. February +50°+41° +48°+41° +50°+41° +50°+43° +48°+41° +50°+41° +52°+41° +50°+43° +50°+41° +50°+41° +50°+41° +50°+41° +52°+43° +54°+45° +54°+45° +50°+43° +52°+43° +52°+41° +54°+45° +54°+45° +52°+45° +54°+45° +54°+45° +52°+43° +52°+45° +54°+45° +52°+43° +52°+41° Extended weather forecast in Tokyo HourlyWeek10-Day14-Day30-DayYear Weather in large and nearby cities Kawaguchi+43° Fuchū+43° Kashiwa+45° Tokorozawa+41° Kasukabe+45° Ageo+43° Kawagoe+43° Yokohama+45° Machida+43° Kawasaki+46° Kodaira+41° Funabashi+45° Nerima+43° Sōka+43° Ichikawa+45° Matsudo+43° Koshigaya+43° Kami-renjaku+43° world's temperature today day day City or place… Copyright © 2024 «World-Weather.info» All rights reserved. Temperature units\", 'score': 0.86303437, 'raw_content': None}], 'response_time': 1.52}),\n",
       "  AIMessage(content='The current weather in Tokyo is as follows:\\n\\n- **Temperature**: 9.3°C (48.7°F)\\n- **Condition**: Partly cloudy\\n- **Wind**: 18.3 mph (29.5 kph) from the north-northwest\\n- **Humidity**: 23%\\n- **Pressure**: 1015.0 mb\\n- **Visibility**: 10 km\\n- **Feels Like**: 5.7°C (42.3°F)\\n\\nNo precipitation is currently reported. You can find more detailed weather information [here](https://www.weatherapi.com/).', additional_kwargs={'refusal': None}, response_metadata={'token_usage': {'completion_tokens': 130, 'prompt_tokens': 972, 'total_tokens': 1102, 'completion_tokens_details': {'accepted_prediction_tokens': 0, 'audio_tokens': 0, 'reasoning_tokens': 0, 'rejected_prediction_tokens': 0}, 'prompt_tokens_details': {'audio_tokens': 0, 'cached_tokens': 0}}, 'model_name': 'gpt-4o-mini-2024-07-18', 'system_fingerprint': 'fp_709714d124', 'finish_reason': 'stop', 'logprobs': None}, id='run-d0c2bea3-e49f-49da-914a-567b080266f9-0', usage_metadata={'input_tokens': 972, 'output_tokens': 130, 'total_tokens': 1102, 'input_token_details': {'audio': 0, 'cache_read': 0}, 'output_token_details': {'audio': 0, 'reasoning': 0}}),\n",
       "  AIMessage(content=\"If you're looking for a more in-depth forecast or additional details, feel free to ask!\", additional_kwargs={'refusal': None}, response_metadata={'token_usage': {'completion_tokens': 20, 'prompt_tokens': 1104, 'total_tokens': 1124, 'completion_tokens_details': {'accepted_prediction_tokens': 0, 'audio_tokens': 0, 'reasoning_tokens': 0, 'rejected_prediction_tokens': 0}, 'prompt_tokens_details': {'audio_tokens': 0, 'cached_tokens': 1024}}, 'model_name': 'gpt-4o-mini-2024-07-18', 'system_fingerprint': 'fp_709714d124', 'finish_reason': 'stop', 'logprobs': None}, id='run-fb000e40-f63b-4549-a0b3-d10c47197fdb-0', usage_metadata={'input_tokens': 1104, 'output_tokens': 20, 'total_tokens': 1124, 'input_token_details': {'audio': 0, 'cache_read': 1024}, 'output_token_details': {'audio': 0, 'reasoning': 0}})]}"
      ]
     },
     "execution_count": 31,
     "metadata": {},
     "output_type": "execute_result"
    }
   ],
   "source": [
    "agent.agent.invoke({\"messages\": messages}, agent.config)"
   ]
  },
  {
   "cell_type": "code",
   "execution_count": null,
   "metadata": {},
   "outputs": [],
   "source": []
  }
 ],
 "metadata": {
  "kernelspec": {
   "display_name": "Python 3",
   "language": "python",
   "name": "python3"
  },
  "language_info": {
   "codemirror_mode": {
    "name": "ipython",
    "version": 3
   },
   "file_extension": ".py",
   "mimetype": "text/x-python",
   "name": "python",
   "nbconvert_exporter": "python",
   "pygments_lexer": "ipython3",
   "version": "3.13.2"
  }
 },
 "nbformat": 4,
 "nbformat_minor": 2
}
