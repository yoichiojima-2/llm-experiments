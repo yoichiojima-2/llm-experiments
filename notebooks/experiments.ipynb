{
 "cells": [
  {
   "cell_type": "code",
   "execution_count": 7,
   "metadata": {},
   "outputs": [],
   "source": [
    "import sys\n",
    "from pathlib import Path\n",
    "import typing as t\n",
    "from langgraph.graph import StateGraph, START, END\n",
    "\n",
    "sys.path.append(str(Path().cwd().parent))\n",
    "\n",
    "from llm_experiments.chat import instantiate_chat"
   ]
  },
  {
   "cell_type": "code",
   "execution_count": 13,
   "metadata": {},
   "outputs": [],
   "source": [
    "class State(t.TypedDict):\n",
    "    query: str\n",
    "    first_answer: str\n",
    "    fact_checked_answer: str\n",
    "    summarized_answer: str"
   ]
  },
  {
   "cell_type": "code",
   "execution_count": 14,
   "metadata": {},
   "outputs": [],
   "source": [
    "model = instantiate_chat(\"4o-mini\")"
   ]
  },
  {
   "cell_type": "code",
   "execution_count": 15,
   "metadata": {},
   "outputs": [],
   "source": [
    "def generate_first_answer(state: State):\n",
    "    msg = model.invoke(f\"answer question: {state['query']}\")\n",
    "    return {\"first_answer\": msg.content}\n",
    "\n",
    "def fact_check(state: State):\n",
    "    msg = model.invoke(f\"do a fact check: {state['first_answer']}\")\n",
    "    return {\"fact_checked_answer\": msg.content}\n",
    "\n",
    "def summarize_answer(state: State):\n",
    "    msg = model.invoke(f\"summarize the answer: {state['fact_checked_answer']}\")\n",
    "    return {\"summarized_answer\": msg.content}\n",
    "\n",
    "graph = StateGraph(State)\n",
    "graph.add_node(\"generate_first_answer\", generate_first_answer)\n",
    "graph.add_node(\"fact_check\", fact_check)\n",
    "graph.add_node(\"summarize_answer\", summarize_answer)\n",
    "\n",
    "graph.add_edge(START, \"generate_first_answer\")\n",
    "graph.add_edge(\"generate_first_answer\", \"fact_check\")\n",
    "graph.add_edge(\"fact_check\", \"summarize_answer\")\n",
    "graph.add_edge(\"summarize_answer\", END)\n",
    "\n",
    "chain = graph.compile()"
   ]
  },
  {
   "cell_type": "code",
   "execution_count": 16,
   "metadata": {},
   "outputs": [
    {
     "data": {
      "image/png": "[encoded data removed]",
      "text/plain": [
       "<IPython.core.display.Image object>"
      ]
     },
     "metadata": {},
     "output_type": "display_data"
    }
   ],
   "source": [
    "from IPython.display import display\n",
    "from IPython.display import Image\n",
    "\n",
    "display(Image(chain.get_graph().draw_mermaid_png()))"
   ]
  },
  {
   "cell_type": "code",
   "execution_count": 17,
   "metadata": {},
   "outputs": [
    {
     "name": "stdout",
     "output_type": "stream",
     "text": [
      "{'fact_checked_answer': 'Your statement is accurate. As an AI, I do not have '\n",
      "                        'real-time capabilities, including checking current '\n",
      "                        'weather conditions. For the latest weather updates, '\n",
      "                        'it’s best to consult reliable weather websites or '\n",
      "                        'apps. Additionally, I can provide information about '\n",
      "                        'typical weather patterns in Tokyo or any other '\n",
      "                        'location. Let me know what specific information you '\n",
      "                        'need!',\n",
      " 'first_answer': \"I don't have real-time capabilities to check the current \"\n",
      "                 'weather. However, you can easily find the weather in Tokyo '\n",
      "                 'by checking a reliable weather website or using a weather '\n",
      "                 \"app. If you're looking for typical weather patterns, I can \"\n",
      "                 'provide that information as well. Let me know!',\n",
      " 'query': 'what is the weather in tokyo?',\n",
      " 'summarized_answer': \"As an AI, I can't check real-time weather conditions, \"\n",
      "                      \"so it's best to use reliable weather websites or apps \"\n",
      "                      'for current updates. However, I can provide information '\n",
      "                      'on typical weather patterns if you need it.'}\n"
     ]
    }
   ],
   "source": [
    "from pprint import pprint\n",
    "\n",
    "pprint(chain.invoke({\"query\": \"what is the weather in tokyo?\"}))"
   ]
  }
 ],
 "metadata": {
  "kernelspec": {
   "display_name": ".venv",
   "language": "python",
   "name": "python3"
  },
  "language_info": {
   "codemirror_mode": {
    "name": "ipython",
    "version": 3
   },
   "file_extension": ".py",
   "mimetype": "text/x-python",
   "name": "python",
   "nbconvert_exporter": "python",
   "pygments_lexer": "ipython3",
   "version": "3.13.2"
  }
 },
 "nbformat": 4,
 "nbformat_minor": 2
}
